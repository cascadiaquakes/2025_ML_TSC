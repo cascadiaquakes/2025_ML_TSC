{
 "cells": [
  {
   "cell_type": "markdown",
   "id": "d5d54521",
   "metadata": {},
   "source": [
    "# Hackathon #1"
   ]
  },
  {
   "cell_type": "markdown",
   "id": "30c852f3",
   "metadata": {},
   "source": [
    "## Part 1: Checking your picks\n",
    "* Run Unet picks, seisbench picks with Earthquake Transformer, and download PhaseNet picks from a station of your choice.  Plot each set of picks along with their associated waveforms.  Which picks seem most robust?  What are the differences?\n",
    "* Run a picker of your choice on a set of stations surrounding the Ferndale earthquake for an hour after the mainshock.  Plot the pick timing vs. station position (e.g. longitude, or distance from the epicenter).  Do the temporal and spatial distribution of the picks reflect moveout?  What fraction of picks seem to be legitimate?  What ways you can think of to do quality control on picks?"
   ]
  },
  {
   "cell_type": "markdown",
   "id": "58a8e29b",
   "metadata": {},
   "source": [
    "## Part 2: More network performance checks\n",
    "\n",
    "* Change the picker to seisbench in the top of the performance_metrics notebook and determine the precision-recall curve and pick distribution.  How does this compare to the network we trained?  How does it compare to the stats mentioned in Zhu and Beroza [2019]?\n",
    "* Compute the mean and standard deviation of all pick residuals for both our trained UNet and PhaseNet.  How do these compare to the values reported in the original PhaseNet paper?\n",
    "* In what ways might a network trained to detect earthquakes in California have limited performance when applied to data in Cascadia?"
   ]
  },
  {
   "cell_type": "markdown",
   "id": "89ac7931",
   "metadata": {},
   "source": []
  }
 ],
 "metadata": {
  "language_info": {
   "name": "python"
  }
 },
 "nbformat": 4,
 "nbformat_minor": 5
}
