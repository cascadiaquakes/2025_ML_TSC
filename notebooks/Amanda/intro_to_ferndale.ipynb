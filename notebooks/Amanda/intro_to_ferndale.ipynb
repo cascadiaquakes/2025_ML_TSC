{
 "cells": [
  {
   "cell_type": "markdown",
   "id": "680a9066-5548-46c5-888a-4d9f83d0d375",
   "metadata": {},
   "source": [
    "# The 2022 Ferndale Earthquake in Northern California"
   ]
  },
  {
   "cell_type": "markdown",
   "id": "f02653bd-e033-45d0-8d23-777d7e5b8c55",
   "metadata": {},
   "source": [
    "On December 20, 2022, a magnitude 6.4 earthquake struck near the town of Ferndale in Humboldt County, along the northern coast of California. The earthquake occurred at approximately 2:34 a.m. PST and was centered offshore, about 15 kilometers southwest of Ferndale, within the seismically active southern Cascadia Subduction Zone region.\n",
    "\n",
    "The quake originated at a depth of roughly 17 kilometers and resulted from strike-slip faulting within the Gorda Plate, a small tectonic plate that interacts with the Pacific and North American plates in this complex triple junction region. The event was widely felt throughout Northern California, including in Eureka, Arcata, and Redding, and was followed by numerous aftershocks, some of which exceeded magnitude 4.\n",
    "\n",
    "The earthquake caused widespread power outages, damaged infrastructure, and sadly resulted in two fatalities and multiple injuries. Several homes and buildings in the region suffered structural damage, particularly in older communities with limited seismic retrofitting.\n",
    "\n",
    "The Ferndale earthquake serves as a reminder of the persistent seismic hazard in the region, especially near the Mendocino Triple Junction, where the Pacific, North American, and Gorda plates meet. It also highlights the importance of earthquake preparedness and resilient infrastructure in vulnerable coastal communities.\n",
    "\n",
    "Below we make a plot of this earthquake."
   ]
  },
  {
   "cell_type": "markdown",
   "id": "4a741f05-e71f-406c-8491-3f54f192502c",
   "metadata": {},
   "source": [
    "```{figure} ferndale_earthquake.png\n",
    "---\n",
    "width: 600px\n",
    "name: 2022 Ferndale Earthquake\n",
    "---\n",
    "Cataloged seismicity from NCEDC.  Events are color coded by depth and scaled by magnitude.\n",
    "```"
   ]
  },
  {
   "cell_type": "markdown",
   "id": "40b7d637-f683-4cac-ad49-06cfa5885207",
   "metadata": {},
   "source": [
    "The pygmt code to create this image is below but note we didnt include pygmt in our list of packages for geolab so it won't run.  Or will it?!?"
   ]
  },
  {
   "cell_type": "code",
   "execution_count": 1,
   "id": "e6e3df57-fab6-48c6-a311-b400bddcb0ba",
   "metadata": {},
   "outputs": [
    {
     "name": "stdout",
     "output_type": "stream",
     "text": [
      "Collecting pygmt\n",
      "  Downloading pygmt-0.15.0-py3-none-any.whl.metadata (11 kB)\n",
      "Requirement already satisfied: numpy>=1.25 in /Users/amt/anaconda3/envs/pytorch/lib/python3.12/site-packages (from pygmt) (1.26.4)\n",
      "Requirement already satisfied: pandas>=2.0 in /Users/amt/anaconda3/envs/pytorch/lib/python3.12/site-packages (from pygmt) (2.2.3)\n",
      "Collecting xarray>=2023.04 (from pygmt)\n",
      "  Downloading xarray-2025.3.1-py3-none-any.whl.metadata (12 kB)\n",
      "Collecting netCDF4 (from pygmt)\n",
      "  Downloading netCDF4-1.7.2-cp312-cp312-macosx_14_0_arm64.whl.metadata (1.8 kB)\n",
      "Requirement already satisfied: packaging in /Users/amt/anaconda3/envs/pytorch/lib/python3.12/site-packages (from pygmt) (24.2)\n",
      "Requirement already satisfied: python-dateutil>=2.8.2 in /Users/amt/anaconda3/envs/pytorch/lib/python3.12/site-packages (from pandas>=2.0->pygmt) (2.9.0.post0)\n",
      "Requirement already satisfied: pytz>=2020.1 in /Users/amt/anaconda3/envs/pytorch/lib/python3.12/site-packages (from pandas>=2.0->pygmt) (2024.1)\n",
      "Requirement already satisfied: tzdata>=2022.7 in /Users/amt/anaconda3/envs/pytorch/lib/python3.12/site-packages (from pandas>=2.0->pygmt) (2025.2)\n",
      "Collecting cftime (from netCDF4->pygmt)\n",
      "  Downloading cftime-1.6.4.post1-cp312-cp312-macosx_11_0_arm64.whl.metadata (8.7 kB)\n",
      "Requirement already satisfied: certifi in /Users/amt/anaconda3/envs/pytorch/lib/python3.12/site-packages (from netCDF4->pygmt) (2025.1.31)\n",
      "Requirement already satisfied: six>=1.5 in /Users/amt/anaconda3/envs/pytorch/lib/python3.12/site-packages (from python-dateutil>=2.8.2->pandas>=2.0->pygmt) (1.17.0)\n",
      "Downloading pygmt-0.15.0-py3-none-any.whl (296 kB)\n",
      "Downloading xarray-2025.3.1-py3-none-any.whl (1.3 MB)\n",
      "\u001b[2K   \u001b[90m━━━━━━━━━━━━━━━━━━━━━━━━━━━━━━━━━━━━━━━━\u001b[0m \u001b[32m1.3/1.3 MB\u001b[0m \u001b[31m20.8 MB/s\u001b[0m eta \u001b[36m0:00:00\u001b[0m\n",
      "\u001b[?25hDownloading netCDF4-1.7.2-cp312-cp312-macosx_14_0_arm64.whl (2.5 MB)\n",
      "\u001b[2K   \u001b[90m━━━━━━━━━━━━━━━━━━━━━━━━━━━━━━━━━━━━━━━━\u001b[0m \u001b[32m2.5/2.5 MB\u001b[0m \u001b[31m18.1 MB/s\u001b[0m eta \u001b[36m0:00:00\u001b[0m\n",
      "\u001b[?25hDownloading cftime-1.6.4.post1-cp312-cp312-macosx_11_0_arm64.whl (209 kB)\n",
      "Installing collected packages: cftime, netCDF4, xarray, pygmt\n",
      "Successfully installed cftime-1.6.4.post1 netCDF4-1.7.2 pygmt-0.15.0 xarray-2025.3.1\n",
      "Note: you may need to restart the kernel to use updated packages.\n"
     ]
    }
   ],
   "source": [
    "pip install pygmt"
   ]
  },
  {
   "cell_type": "code",
   "execution_count": 3,
   "id": "2bf5211e-afa1-4366-b13c-f9eeed941817",
   "metadata": {},
   "outputs": [
    {
     "ename": "GMTCLibNotFoundError",
     "evalue": "Error loading GMT shared library at 'libgmt.dylib'.\ndlopen(libgmt.dylib, 0x0006): tried: 'libgmt.dylib' (no such file), '/System/Volumes/Preboot/Cryptexes/OSlibgmt.dylib' (no such file), '/Users/amt/anaconda3/envs/pytorch/lib/python3.12/lib-dynload/../../libgmt.dylib' (no such file), '/Users/amt/anaconda3/envs/pytorch/bin/../lib/libgmt.dylib' (no such file), '/usr/lib/libgmt.dylib' (no such file, not in dyld cache), 'libgmt.dylib' (no such file), '/usr/local/lib/libgmt.dylib' (no such file), '/usr/lib/libgmt.dylib' (no such file, not in dyld cache)",
     "output_type": "error",
     "traceback": [
      "\u001b[31m---------------------------------------------------------------------------\u001b[39m",
      "\u001b[31mGMTCLibNotFoundError\u001b[39m                      Traceback (most recent call last)",
      "\u001b[36mCell\u001b[39m\u001b[36m \u001b[39m\u001b[32mIn[3]\u001b[39m\u001b[32m, line 1\u001b[39m\n\u001b[32m----> \u001b[39m\u001b[32m1\u001b[39m \u001b[38;5;28;01mimport\u001b[39;00m\u001b[38;5;250m \u001b[39m\u001b[34;01mpygmt\u001b[39;00m\n\u001b[32m      2\u001b[39m \u001b[38;5;28;01mimport\u001b[39;00m\u001b[38;5;250m \u001b[39m\u001b[34;01mpandas\u001b[39;00m\u001b[38;5;250m \u001b[39m\u001b[38;5;28;01mas\u001b[39;00m\u001b[38;5;250m \u001b[39m\u001b[34;01mpd\u001b[39;00m\n\u001b[32m      4\u001b[39m \u001b[38;5;66;03m# Load station data\u001b[39;00m\n",
      "\u001b[36mFile \u001b[39m\u001b[32m~/anaconda3/envs/pytorch/lib/python3.12/site-packages/pygmt/__init__.py:24\u001b[39m\n\u001b[32m     21\u001b[39m \u001b[38;5;28;01mimport\u001b[39;00m\u001b[38;5;250m \u001b[39m\u001b[34;01matexit\u001b[39;00m\u001b[38;5;250m \u001b[39m\u001b[38;5;28;01mas\u001b[39;00m\u001b[38;5;250m \u001b[39m\u001b[34;01m_atexit\u001b[39;00m\n\u001b[32m     23\u001b[39m \u001b[38;5;66;03m# Import modules to make the high-level GMT Python API\u001b[39;00m\n\u001b[32m---> \u001b[39m\u001b[32m24\u001b[39m \u001b[38;5;28;01mfrom\u001b[39;00m\u001b[38;5;250m \u001b[39m\u001b[34;01mpygmt\u001b[39;00m\u001b[38;5;250m \u001b[39m\u001b[38;5;28;01mimport\u001b[39;00m datasets\n\u001b[32m     25\u001b[39m \u001b[38;5;28;01mfrom\u001b[39;00m\u001b[38;5;250m \u001b[39m\u001b[34;01mpygmt\u001b[39;00m\u001b[34;01m.\u001b[39;00m\u001b[34;01m_show_versions\u001b[39;00m\u001b[38;5;250m \u001b[39m\u001b[38;5;28;01mimport\u001b[39;00m __commit__, __version__, show_versions\n\u001b[32m     26\u001b[39m \u001b[38;5;28;01mfrom\u001b[39;00m\u001b[38;5;250m \u001b[39m\u001b[34;01mpygmt\u001b[39;00m\u001b[34;01m.\u001b[39;00m\u001b[34;01maccessors\u001b[39;00m\u001b[38;5;250m \u001b[39m\u001b[38;5;28;01mimport\u001b[39;00m GMTDataArrayAccessor\n",
      "\u001b[36mFile \u001b[39m\u001b[32m~/anaconda3/envs/pytorch/lib/python3.12/site-packages/pygmt/datasets/__init__.py:7\u001b[39m\n\u001b[32m      1\u001b[39m \u001b[33;03m\"\"\"\u001b[39;00m\n\u001b[32m      2\u001b[39m \u001b[33;03mFunctions to load GMT remote data and sample data.\u001b[39;00m\n\u001b[32m      3\u001b[39m \n\u001b[32m      4\u001b[39m \u001b[33;03mData are downloaded from the GMT data server.\u001b[39;00m\n\u001b[32m      5\u001b[39m \u001b[33;03m\"\"\"\u001b[39;00m\n\u001b[32m----> \u001b[39m\u001b[32m7\u001b[39m \u001b[38;5;28;01mfrom\u001b[39;00m\u001b[38;5;250m \u001b[39m\u001b[34;01mpygmt\u001b[39;00m\u001b[34;01m.\u001b[39;00m\u001b[34;01mdatasets\u001b[39;00m\u001b[34;01m.\u001b[39;00m\u001b[34;01mearth_age\u001b[39;00m\u001b[38;5;250m \u001b[39m\u001b[38;5;28;01mimport\u001b[39;00m load_earth_age\n\u001b[32m      8\u001b[39m \u001b[38;5;28;01mfrom\u001b[39;00m\u001b[38;5;250m \u001b[39m\u001b[34;01mpygmt\u001b[39;00m\u001b[34;01m.\u001b[39;00m\u001b[34;01mdatasets\u001b[39;00m\u001b[34;01m.\u001b[39;00m\u001b[34;01mearth_day\u001b[39;00m\u001b[38;5;250m \u001b[39m\u001b[38;5;28;01mimport\u001b[39;00m load_blue_marble\n\u001b[32m      9\u001b[39m \u001b[38;5;28;01mfrom\u001b[39;00m\u001b[38;5;250m \u001b[39m\u001b[34;01mpygmt\u001b[39;00m\u001b[34;01m.\u001b[39;00m\u001b[34;01mdatasets\u001b[39;00m\u001b[34;01m.\u001b[39;00m\u001b[34;01mearth_deflection\u001b[39;00m\u001b[38;5;250m \u001b[39m\u001b[38;5;28;01mimport\u001b[39;00m load_earth_deflection\n",
      "\u001b[36mFile \u001b[39m\u001b[32m~/anaconda3/envs/pytorch/lib/python3.12/site-packages/pygmt/datasets/earth_age.py:12\u001b[39m\n\u001b[32m      9\u001b[39m \u001b[38;5;28;01mfrom\u001b[39;00m\u001b[38;5;250m \u001b[39m\u001b[34;01mtyping\u001b[39;00m\u001b[38;5;250m \u001b[39m\u001b[38;5;28;01mimport\u001b[39;00m Literal\n\u001b[32m     11\u001b[39m \u001b[38;5;28;01mimport\u001b[39;00m\u001b[38;5;250m \u001b[39m\u001b[34;01mxarray\u001b[39;00m\u001b[38;5;250m \u001b[39m\u001b[38;5;28;01mas\u001b[39;00m\u001b[38;5;250m \u001b[39m\u001b[34;01mxr\u001b[39;00m\n\u001b[32m---> \u001b[39m\u001b[32m12\u001b[39m \u001b[38;5;28;01mfrom\u001b[39;00m\u001b[38;5;250m \u001b[39m\u001b[34;01mpygmt\u001b[39;00m\u001b[34;01m.\u001b[39;00m\u001b[34;01mdatasets\u001b[39;00m\u001b[34;01m.\u001b[39;00m\u001b[34;01mload_remote_dataset\u001b[39;00m\u001b[38;5;250m \u001b[39m\u001b[38;5;28;01mimport\u001b[39;00m _load_remote_dataset\n\u001b[32m     14\u001b[39m __doctest_skip__ = [\u001b[33m\"\u001b[39m\u001b[33mload_earth_age\u001b[39m\u001b[33m\"\u001b[39m]\n\u001b[32m     17\u001b[39m \u001b[38;5;28;01mdef\u001b[39;00m\u001b[38;5;250m \u001b[39m\u001b[34mload_earth_age\u001b[39m(\n\u001b[32m     18\u001b[39m     resolution: Literal[\n\u001b[32m     19\u001b[39m         \u001b[33m\"\u001b[39m\u001b[33m01d\u001b[39m\u001b[33m\"\u001b[39m, \u001b[33m\"\u001b[39m\u001b[33m30m\u001b[39m\u001b[33m\"\u001b[39m, \u001b[33m\"\u001b[39m\u001b[33m20m\u001b[39m\u001b[33m\"\u001b[39m, \u001b[33m\"\u001b[39m\u001b[33m15m\u001b[39m\u001b[33m\"\u001b[39m, \u001b[33m\"\u001b[39m\u001b[33m10m\u001b[39m\u001b[33m\"\u001b[39m, \u001b[33m\"\u001b[39m\u001b[33m06m\u001b[39m\u001b[33m\"\u001b[39m, \u001b[33m\"\u001b[39m\u001b[33m05m\u001b[39m\u001b[33m\"\u001b[39m, \u001b[33m\"\u001b[39m\u001b[33m04m\u001b[39m\u001b[33m\"\u001b[39m, \u001b[33m\"\u001b[39m\u001b[33m03m\u001b[39m\u001b[33m\"\u001b[39m, \u001b[33m\"\u001b[39m\u001b[33m02m\u001b[39m\u001b[33m\"\u001b[39m, \u001b[33m\"\u001b[39m\u001b[33m01m\u001b[39m\u001b[33m\"\u001b[39m\n\u001b[32m   (...)\u001b[39m\u001b[32m     22\u001b[39m     registration: Literal[\u001b[33m\"\u001b[39m\u001b[33mgridline\u001b[39m\u001b[33m\"\u001b[39m, \u001b[33m\"\u001b[39m\u001b[33mpixel\u001b[39m\u001b[33m\"\u001b[39m] = \u001b[33m\"\u001b[39m\u001b[33mgridline\u001b[39m\u001b[33m\"\u001b[39m,\n\u001b[32m     23\u001b[39m ) -> xr.DataArray:\n",
      "\u001b[36mFile \u001b[39m\u001b[32m~/anaconda3/envs/pytorch/lib/python3.12/site-packages/pygmt/datasets/load_remote_dataset.py:10\u001b[39m\n\u001b[32m      7\u001b[39m \u001b[38;5;28;01mfrom\u001b[39;00m\u001b[38;5;250m \u001b[39m\u001b[34;01mtyping\u001b[39;00m\u001b[38;5;250m \u001b[39m\u001b[38;5;28;01mimport\u001b[39;00m Any, Literal, NamedTuple\n\u001b[32m      9\u001b[39m \u001b[38;5;28;01mimport\u001b[39;00m\u001b[38;5;250m \u001b[39m\u001b[34;01mxarray\u001b[39;00m\u001b[38;5;250m \u001b[39m\u001b[38;5;28;01mas\u001b[39;00m\u001b[38;5;250m \u001b[39m\u001b[34;01mxr\u001b[39;00m\n\u001b[32m---> \u001b[39m\u001b[32m10\u001b[39m \u001b[38;5;28;01mfrom\u001b[39;00m\u001b[38;5;250m \u001b[39m\u001b[34;01mpygmt\u001b[39;00m\u001b[34;01m.\u001b[39;00m\u001b[34;01mclib\u001b[39;00m\u001b[38;5;250m \u001b[39m\u001b[38;5;28;01mimport\u001b[39;00m Session\n\u001b[32m     11\u001b[39m \u001b[38;5;28;01mfrom\u001b[39;00m\u001b[38;5;250m \u001b[39m\u001b[34;01mpygmt\u001b[39;00m\u001b[34;01m.\u001b[39;00m\u001b[34;01mexceptions\u001b[39;00m\u001b[38;5;250m \u001b[39m\u001b[38;5;28;01mimport\u001b[39;00m GMTInvalidInput\n\u001b[32m     12\u001b[39m \u001b[38;5;28;01mfrom\u001b[39;00m\u001b[38;5;250m \u001b[39m\u001b[34;01mpygmt\u001b[39;00m\u001b[34;01m.\u001b[39;00m\u001b[34;01mhelpers\u001b[39;00m\u001b[38;5;250m \u001b[39m\u001b[38;5;28;01mimport\u001b[39;00m build_arg_list, kwargs_to_strings\n",
      "\u001b[36mFile \u001b[39m\u001b[32m~/anaconda3/envs/pytorch/lib/python3.12/site-packages/pygmt/clib/__init__.py:9\u001b[39m\n\u001b[32m      1\u001b[39m \u001b[33;03m\"\"\"\u001b[39;00m\n\u001b[32m      2\u001b[39m \u001b[33;03mLow-level wrapper for the GMT C API.\u001b[39;00m\n\u001b[32m      3\u001b[39m \n\u001b[32m      4\u001b[39m \u001b[33;03mThe pygmt.clib.Session class wraps the GMT C shared library (libgmt) with a Pythonic\u001b[39;00m\n\u001b[32m      5\u001b[39m \u001b[33;03minterface. Access to the C library is done through ctypes.\u001b[39;00m\n\u001b[32m      6\u001b[39m \u001b[33;03m\"\"\"\u001b[39;00m\n\u001b[32m      8\u001b[39m \u001b[38;5;28;01mfrom\u001b[39;00m\u001b[38;5;250m \u001b[39m\u001b[34;01mpackaging\u001b[39;00m\u001b[34;01m.\u001b[39;00m\u001b[34;01mversion\u001b[39;00m\u001b[38;5;250m \u001b[39m\u001b[38;5;28;01mimport\u001b[39;00m Version\n\u001b[32m----> \u001b[39m\u001b[32m9\u001b[39m \u001b[38;5;28;01mfrom\u001b[39;00m\u001b[38;5;250m \u001b[39m\u001b[34;01mpygmt\u001b[39;00m\u001b[34;01m.\u001b[39;00m\u001b[34;01mclib\u001b[39;00m\u001b[34;01m.\u001b[39;00m\u001b[34;01msession\u001b[39;00m\u001b[38;5;250m \u001b[39m\u001b[38;5;28;01mimport\u001b[39;00m Session, __gmt_version__\n\u001b[32m     10\u001b[39m \u001b[38;5;28;01mfrom\u001b[39;00m\u001b[38;5;250m \u001b[39m\u001b[34;01mpygmt\u001b[39;00m\u001b[34;01m.\u001b[39;00m\u001b[34;01mexceptions\u001b[39;00m\u001b[38;5;250m \u001b[39m\u001b[38;5;28;01mimport\u001b[39;00m GMTVersionError\n\u001b[32m     12\u001b[39m required_gmt_version = \u001b[33m\"\u001b[39m\u001b[33m6.4.0\u001b[39m\u001b[33m\"\u001b[39m\n",
      "\u001b[36mFile \u001b[39m\u001b[32m~/anaconda3/envs/pytorch/lib/python3.12/site-packages/pygmt/clib/session.py:110\u001b[39m\n\u001b[32m    107\u001b[39m GMT_CONSTANTS = {}\n\u001b[32m    109\u001b[39m \u001b[38;5;66;03m# Load the GMT library outside the Session class to avoid repeated loading.\u001b[39;00m\n\u001b[32m--> \u001b[39m\u001b[32m110\u001b[39m _libgmt = \u001b[43mload_libgmt\u001b[49m\u001b[43m(\u001b[49m\u001b[43m)\u001b[49m\n\u001b[32m    111\u001b[39m __gmt_version__ = get_gmt_version(_libgmt)\n\u001b[32m    114\u001b[39m \u001b[38;5;28;01mclass\u001b[39;00m\u001b[38;5;250m \u001b[39m\u001b[34;01mSession\u001b[39;00m:\n",
      "\u001b[36mFile \u001b[39m\u001b[32m~/anaconda3/envs/pytorch/lib/python3.12/site-packages/pygmt/clib/loading.py:62\u001b[39m, in \u001b[36mload_libgmt\u001b[39m\u001b[34m(lib_fullnames)\u001b[39m\n\u001b[32m     59\u001b[39m         failing_libs.append(libname)\n\u001b[32m     61\u001b[39m \u001b[38;5;28;01mif\u001b[39;00m error:\n\u001b[32m---> \u001b[39m\u001b[32m62\u001b[39m     \u001b[38;5;28;01mraise\u001b[39;00m GMTCLibNotFoundError(\u001b[33m\"\u001b[39m\u001b[38;5;130;01m\\n\u001b[39;00m\u001b[33m\"\u001b[39m.join(error_msg))\n\u001b[32m     64\u001b[39m \u001b[38;5;28;01mreturn\u001b[39;00m libgmt\n",
      "\u001b[31mGMTCLibNotFoundError\u001b[39m: Error loading GMT shared library at 'libgmt.dylib'.\ndlopen(libgmt.dylib, 0x0006): tried: 'libgmt.dylib' (no such file), '/System/Volumes/Preboot/Cryptexes/OSlibgmt.dylib' (no such file), '/Users/amt/anaconda3/envs/pytorch/lib/python3.12/lib-dynload/../../libgmt.dylib' (no such file), '/Users/amt/anaconda3/envs/pytorch/bin/../lib/libgmt.dylib' (no such file), '/usr/lib/libgmt.dylib' (no such file, not in dyld cache), 'libgmt.dylib' (no such file), '/usr/local/lib/libgmt.dylib' (no such file), '/usr/lib/libgmt.dylib' (no such file, not in dyld cache)"
     ]
    }
   ],
   "source": [
    "import pygmt\n",
    "import pandas as pd\n",
    "\n",
    "# Load station data\n",
    "df = pd.read_csv(\"../data/station2.txt\", \n",
    "                 delim_whitespace=True, \n",
    "                 header=None, \n",
    "                 usecols=[0, 1, 2], \n",
    "                 names=[\"name\", \"lat\", \"lon\"])\n",
    "\n",
    "# Ferndale earthquake info (USGS event ID: nc73798970)\n",
    "eq_lat = 40.52500   \n",
    "eq_lon = -124.42300\n",
    "eq_depth = 17.910 # km\n",
    "eq_mag = 6.4\n",
    "\n",
    "# Double-couple focal mechanism (strike, dip, rake)\n",
    "# Approximate for this event (strike-slip): 150, 90, 0\n",
    "focal_mech  = {\"strike\": 252, \"dip\": 89, \"rake\": 7, \"magnitude\": 6.4}\n",
    "\n",
    "# Initialize map\n",
    "fig = pygmt.Figure()\n",
    "\n",
    "# Region around northern CA (adjust as needed)\n",
    "region = [-124.75, -123, 39.25, 41.25]\n",
    "\n",
    "# Base map\n",
    "fig.basemap(region=region, \n",
    "            projection=\"M10i\", \n",
    "            frame=[\"a\", \"+t2022 Ferndale Earthquake\"]\n",
    "            )\n",
    "fig.coast(shorelines=\"1/0.5p,black\", \n",
    "          water=\"lightblue\", \n",
    "          land=\"gray95\", \n",
    "          borders=\"a\", \n",
    "          resolution=\"f\")\n",
    "\n",
    "# Plot stations\n",
    "fig.plot(x=df[\"lon\"], \n",
    "         y=df[\"lat\"], \n",
    "         style=\"t0.5c\", \n",
    "         fill=\"blue\", \n",
    "         pen=\"black\", \n",
    "         label=\"Stations\")\n",
    "\n",
    "# Add station names\n",
    "for _, row in df.iterrows():\n",
    "    fig.text(x=row[\"lon\"], \n",
    "             y=row[\"lat\"], \n",
    "             text=row[\"name\"], \n",
    "             font=\"14p,Helvetica,black\", \n",
    "             offset=\"0.3c/0.6c\")\n",
    "    \n",
    "# Read earthquake\n",
    "cols = [\"Date\",\"Time\",\"Lat\",\"Lon\",\"Depth\",\"Mag\",\"Magt\",\"Nst\",\"Gap\",\"Clo\",\"RMS\",\"SRC\",\"Event ID\"]\n",
    "df = pd.read_csv(\"../data/ncedc.eqs\", delim_whitespace=True, skiprows=13, names=cols)\n",
    "pygmt.makecpt(cmap=\"viridis\", series=[df[\"Depth\"].min(), df[\"Depth\"].max()])\n",
    "fig.plot(x=df[\"Lon\"], \n",
    "         y=df[\"Lat\"], \n",
    "         style=\"c0.2c\", \n",
    "         fill=df[\"Depth\"], \n",
    "         cmap=True) \n",
    "fig.colorbar(frame=\"xaf+lDepth (km)\")\n",
    "\n",
    "# Plot earthquake location\n",
    "fig.plot(x=[eq_lon], \n",
    "         y=[eq_lat], \n",
    "         style=\"a1.0c\", \n",
    "         fill=\"red\", \n",
    "         pen=\"black\", \n",
    "         label=\"Event\")\n",
    "\n",
    "# Plot focal mechanism\n",
    "fig.meca(spec=focal_mech, \n",
    "         scale=\"2c\", \n",
    "         longitude=eq_lon, \n",
    "         latitude=eq_lat, \n",
    "         depth=0, \n",
    "         plot_longitude=eq_lon+0.1, \n",
    "         plot_latitude=eq_lat-0.20,\n",
    "         offset=\"+p1p,darkblue+s0.25c\",\n",
    "         compressionfill=\"lightorange\")\n",
    "\n",
    "# Plot Faults\n",
    "fig.plot(data=\"../data/gem_active_faults.gmt\", \n",
    "         pen=\"1p,darkred\", \n",
    "         label=\"Faults\")\n",
    "\n",
    "# Add legend\n",
    "pygmt.config(FONT_ANNOT_PRIMARY=\"25p,Helvetica,black\")\n",
    "fig.legend(position=\"JTR+o-6c\", box=True)\n",
    "\n",
    "# Show figure\n",
    "fig.show()\n",
    "fig.savefig(fname=\"ferndale_earthquake.png\")"
   ]
  },
  {
   "cell_type": "code",
   "execution_count": null,
   "id": "2530b3b1-cc3e-4339-b66f-6321e1c48ac6",
   "metadata": {},
   "outputs": [],
   "source": []
  }
 ],
 "metadata": {
  "kernelspec": {
   "display_name": "Python 3 (ipykernel)",
   "language": "python",
   "name": "python3"
  },
  "language_info": {
   "codemirror_mode": {
    "name": "ipython",
    "version": 3
   },
   "file_extension": ".py",
   "mimetype": "text/x-python",
   "name": "python",
   "nbconvert_exporter": "python",
   "pygments_lexer": "ipython3",
   "version": "3.12.9"
  }
 },
 "nbformat": 4,
 "nbformat_minor": 5
}
