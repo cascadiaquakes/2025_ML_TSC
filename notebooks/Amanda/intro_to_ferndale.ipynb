{
 "cells": [
  {
   "cell_type": "markdown",
   "id": "680a9066-5548-46c5-888a-4d9f83d0d375",
   "metadata": {},
   "source": [
    "# The 2022 Ferndale Earthquake in Northern California"
   ]
  },
  {
   "cell_type": "markdown",
   "id": "f02653bd-e033-45d0-8d23-777d7e5b8c55",
   "metadata": {},
   "source": [
    "On December 20, 2022, a magnitude 6.4 earthquake struck near the town of Ferndale in Humboldt County, along the northern coast of California. The earthquake occurred at approximately 2:34 a.m. PST and was centered offshore, about 15 kilometers southwest of Ferndale, within the seismically active southern Cascadia Subduction Zone region.\n",
    "\n",
    "The quake originated at a depth of roughly 17 kilometers and resulted from strike-slip faulting within the Gorda Plate, a small tectonic plate that interacts with the Pacific and North American plates in this complex triple junction region. The event was widely felt throughout Northern California, including in Eureka, Arcata, and Redding, and was followed by numerous aftershocks, some of which exceeded magnitude 4.\n",
    "\n",
    "The earthquake caused widespread power outages, damaged infrastructure, and sadly resulted in two fatalities and multiple injuries. Several homes and buildings in the region suffered structural damage, particularly in older communities with limited seismic retrofitting.\n",
    "\n",
    "The Ferndale earthquake serves as a reminder of the persistent seismic hazard in the region, especially near the Mendocino Triple Junction, where the Pacific, North American, and Gorda plates meet. It also highlights the importance of earthquake preparedness and resilient infrastructure in vulnerable coastal communities.\n",
    "\n",
    "Below we make a plot of this earthquake."
   ]
  },
  {
   "cell_type": "code",
   "execution_count": 5,
   "id": "7a5b78c7-ed39-43f3-a263-d5c5658cf088",
   "metadata": {},
   "outputs": [
    {
     "data": {
      "text/html": [
       "<div style=\"text-align: center;\"><img src=\"ferndale_earthquake.png\" width=\"500\"></div>"
      ],
      "text/plain": [
       "<IPython.core.display.HTML object>"
      ]
     },
     "execution_count": 5,
     "metadata": {},
     "output_type": "execute_result"
    }
   ],
   "source": [
    "from IPython.display import HTML\n",
    "\n",
    "HTML('<div style=\"text-align: center;\"><img src=\"ferndale_earthquake.png\" width=\"500\"></div>')"
   ]
  },
  {
   "cell_type": "code",
   "execution_count": 10,
   "id": "753beb51-715d-4417-8505-72b0b2b9fd07",
   "metadata": {},
   "outputs": [
    {
     "ename": "SyntaxError",
     "evalue": "invalid syntax (3804918166.py, line 1)",
     "output_type": "error",
     "traceback": [
      "  \u001b[36mCell\u001b[39m\u001b[36m \u001b[39m\u001b[32mIn[10]\u001b[39m\u001b[32m, line 1\u001b[39m\n\u001b[31m    \u001b[39m\u001b[31m<p align=\"center\">\u001b[39m\n    ^\n\u001b[31mSyntaxError\u001b[39m\u001b[31m:\u001b[39m invalid syntax\n"
     ]
    }
   ],
   "source": [
    "<p align=\"center\">\n",
    "  <img src=\"ferndale_earthquake.png\" width=\"500\">\n",
    "</p>"
   ]
  },
  {
   "cell_type": "markdown",
   "id": "add5a75c-67cd-4744-8372-338360f7a18e",
   "metadata": {},
   "source": [
    "The pygmt code to create this image is below but note we didnt include pygmt in our list of packages for geolab so it won't run."
   ]
  },
  {
   "cell_type": "code",
   "execution_count": 7,
   "id": "2bf5211e-afa1-4366-b13c-f9eeed941817",
   "metadata": {},
   "outputs": [
    {
     "ename": "ModuleNotFoundError",
     "evalue": "No module named 'pygmt'",
     "output_type": "error",
     "traceback": [
      "\u001b[31m---------------------------------------------------------------------------\u001b[39m",
      "\u001b[31mModuleNotFoundError\u001b[39m                       Traceback (most recent call last)",
      "\u001b[36mCell\u001b[39m\u001b[36m \u001b[39m\u001b[32mIn[7]\u001b[39m\u001b[32m, line 1\u001b[39m\n\u001b[32m----> \u001b[39m\u001b[32m1\u001b[39m \u001b[38;5;28;01mimport\u001b[39;00m\u001b[38;5;250m \u001b[39m\u001b[34;01mpygmt\u001b[39;00m\n\u001b[32m      2\u001b[39m \u001b[38;5;28;01mimport\u001b[39;00m\u001b[38;5;250m \u001b[39m\u001b[34;01mpandas\u001b[39;00m\u001b[38;5;250m \u001b[39m\u001b[38;5;28;01mas\u001b[39;00m\u001b[38;5;250m \u001b[39m\u001b[34;01mpd\u001b[39;00m\n\u001b[32m      3\u001b[39m get_ipython().run_line_magic(\u001b[33m'\u001b[39m\u001b[33mmatplotlib\u001b[39m\u001b[33m'\u001b[39m, \u001b[33m'\u001b[39m\u001b[33mnotebook\u001b[39m\u001b[33m'\u001b[39m)\n",
      "\u001b[31mModuleNotFoundError\u001b[39m: No module named 'pygmt'"
     ]
    }
   ],
   "source": [
    "import pygmt\n",
    "import pandas as pd\n",
    "%matplotlib notebook\n",
    "\n",
    "# Load station data\n",
    "df = pd.read_csv(\"../data/station2.txt\", \n",
    "                 delim_whitespace=True, \n",
    "                 header=None, \n",
    "                 usecols=[0, 1, 2], \n",
    "                 names=[\"name\", \"lat\", \"lon\"])\n",
    "\n",
    "# Ferndale earthquake info (USGS event ID: nc73798970)\n",
    "eq_lat = 40.52500   \n",
    "eq_lon = -124.42300\n",
    "eq_depth = 17.910 # km\n",
    "eq_mag = 6.4\n",
    "\n",
    "# Double-couple focal mechanism (strike, dip, rake)\n",
    "# Approximate for this event (strike-slip): 150, 90, 0\n",
    "focal_mech  = {\"strike\": 252, \"dip\": 89, \"rake\": 7, \"magnitude\": 6.4}\n",
    "\n",
    "# Initialize map\n",
    "fig = pygmt.Figure()\n",
    "\n",
    "# Region around northern CA (adjust as needed)\n",
    "region = [-124.75, -123, 39.25, 41.25]\n",
    "\n",
    "# Base map\n",
    "fig.basemap(region=region, \n",
    "            projection=\"M10i\", \n",
    "            frame=[\"a\", \"+t2022 Ferndale Earthquake\"]\n",
    "            )\n",
    "fig.coast(shorelines=\"1/0.5p,black\", \n",
    "          water=\"lightblue\", \n",
    "          land=\"gray95\", \n",
    "          borders=\"a\", \n",
    "          resolution=\"f\")\n",
    "\n",
    "# Plot stations\n",
    "fig.plot(x=df[\"lon\"], \n",
    "         y=df[\"lat\"], \n",
    "         style=\"t0.5c\", \n",
    "         fill=\"blue\", \n",
    "         pen=\"black\", \n",
    "         label=\"Stations\")\n",
    "\n",
    "# Add station names\n",
    "for _, row in df.iterrows():\n",
    "    fig.text(x=row[\"lon\"], \n",
    "             y=row[\"lat\"], \n",
    "             text=row[\"name\"], \n",
    "             font=\"14p,Helvetica,black\", \n",
    "             offset=\"0.3c/0.6c\")\n",
    "    \n",
    "# Read earthquake\n",
    "cols = [\"Date\",\"Time\",\"Lat\",\"Lon\",\"Depth\",\"Mag\",\"Magt\",\"Nst\",\"Gap\",\"Clo\",\"RMS\",\"SRC\",\"Event ID\"]\n",
    "df = pd.read_csv(\"../data/ncedc.eqs\", delim_whitespace=True, skiprows=13, names=cols)\n",
    "pygmt.makecpt(cmap=\"viridis\", series=[df[\"Depth\"].min(), df[\"Depth\"].max()])\n",
    "fig.plot(x=df[\"Lon\"], \n",
    "         y=df[\"Lat\"], \n",
    "         style=\"c0.2c\", \n",
    "         fill=df[\"Depth\"], \n",
    "         cmap=True) \n",
    "fig.colorbar(frame=\"xaf+lDepth (km)\")\n",
    "\n",
    "# Plot earthquake location\n",
    "fig.plot(x=[eq_lon], \n",
    "         y=[eq_lat], \n",
    "         style=\"a1.0c\", \n",
    "         fill=\"red\", \n",
    "         pen=\"black\", \n",
    "         label=\"Event\")\n",
    "\n",
    "# Plot focal mechanism\n",
    "fig.meca(spec=focal_mech, \n",
    "         scale=\"2c\", \n",
    "         longitude=eq_lon, \n",
    "         latitude=eq_lat, \n",
    "         depth=0, \n",
    "         plot_longitude=eq_lon+0.1, \n",
    "         plot_latitude=eq_lat-0.20,\n",
    "         offset=\"+p1p,darkblue+s0.25c\",\n",
    "         compressionfill=\"lightorange\")\n",
    "\n",
    "# Plot Faults\n",
    "fig.plot(data=\"../data/gem_active_faults.gmt\", \n",
    "         pen=\"1p,darkred\", \n",
    "         label=\"Faults\")\n",
    "\n",
    "# Add legend\n",
    "pygmt.config(FONT_ANNOT_PRIMARY=\"25p,Helvetica,black\")\n",
    "fig.legend(position=\"JTR+o-6c\", box=True)\n",
    "\n",
    "# Show figure\n",
    "fig.show()\n",
    "fig.savefig(fname=\"ferndale_earthquake.png\")"
   ]
  },
  {
   "cell_type": "code",
   "execution_count": null,
   "id": "2530b3b1-cc3e-4339-b66f-6321e1c48ac6",
   "metadata": {},
   "outputs": [],
   "source": []
  }
 ],
 "metadata": {
  "kernelspec": {
   "display_name": "Python 3 (ipykernel)",
   "language": "python",
   "name": "python3"
  },
  "language_info": {
   "codemirror_mode": {
    "name": "ipython",
    "version": 3
   },
   "file_extension": ".py",
   "mimetype": "text/x-python",
   "name": "python",
   "nbconvert_exporter": "python",
   "pygments_lexer": "ipython3",
   "version": "3.12.9"
  }
 },
 "nbformat": 4,
 "nbformat_minor": 5
}
