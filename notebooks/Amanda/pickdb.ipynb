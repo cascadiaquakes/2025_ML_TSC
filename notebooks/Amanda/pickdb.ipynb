{
 "cells": [
  {
   "cell_type": "markdown",
   "id": "8f517668",
   "metadata": {},
   "source": [
    "# Global Pick Database (detections the really easy way)\n",
    "\n",
    "<img src=\"https://github.com/amtseismo/2025_ML_TSC/blob/main/notebooks/Amanda/pickdb.png?raw=true\" width=\"800\">\n",
    "\n",
    "**Author:** Amanda M. Thomas (modified from something Yiyu Ni sent over Slack)\n",
    "**Goal:** A quick PickDB demonstration."
   ]
  },
  {
   "cell_type": "code",
   "execution_count": 2,
   "id": "7236a524",
   "metadata": {},
   "outputs": [
    {
     "name": "stdout",
     "output_type": "stream",
     "text": [
      "Julian Day: 354\n",
      "   trace_id network_code station_code  location_code channel  \\\n",
      "0  PB.B047.           PB         B047            NaN      EH   \n",
      "1  PB.B047.           PB         B047            NaN      EH   \n",
      "2  PB.B047.           PB         B047            NaN      EH   \n",
      "3  PB.B047.           PB         B047            NaN      EH   \n",
      "4  PB.B047.           PB         B047            NaN      EH   \n",
      "\n",
      "                start_time                peak_time                 end_time  \\\n",
      "0  2022-12-20 00:09:53.650  2022-12-20 00:09:53.850  2022-12-20 00:09:54.230   \n",
      "1  2022-12-20 00:14:08.630  2022-12-20 00:14:08.800  2022-12-20 00:14:09.270   \n",
      "2  2022-12-20 00:26:58.150  2022-12-20 00:26:58.380  2022-12-20 00:26:58.610   \n",
      "3  2022-12-20 00:38:18.630  2022-12-20 00:38:18.750  2022-12-20 00:38:19.030   \n",
      "4  2022-12-20 00:38:58.890  2022-12-20 00:38:59.050  2022-12-20 00:38:59.050   \n",
      "\n",
      "   confidence  amplitude phase  \n",
      "0    0.300115   0.000021     P  \n",
      "1    0.261277   0.000014     P  \n",
      "2    0.311770   0.000016     P  \n",
      "3    0.223382   0.000018     P  \n",
      "4    0.340299   0.000020     P  \n"
     ]
    }
   ],
   "source": [
    "import datetime\n",
    "import pandas as pd\n",
    "\n",
    "base_url = \"https://dasway.ess.washington.edu/quakescope/service/picks/query\"\n",
    "starttime = \"2022-12-20\"\n",
    "endtime = \"2022-12-21\"\n",
    "\n",
    "# Convert starttime to datetime and get Julian day\n",
    "dt = datetime.datetime.strptime(starttime, \"%Y-%m-%d\")\n",
    "julian_day = dt.timetuple().tm_yday\n",
    "print(\"Julian Day:\", julian_day)\n",
    "\n",
    "# Construct URL (remove quotes around dates unless required by API)\n",
    "url = f\"{base_url}?tid=PB.B047.&start_time={starttime}&end_time={endtime}&limit=1000\"\n",
    "\n",
    "# Load data\n",
    "detections = pd.read_csv(url, delimiter=\"|\")\n",
    "print(detections.head())"
   ]
  },
  {
   "cell_type": "code",
   "execution_count": 3,
   "id": "3ba7e229",
   "metadata": {},
   "outputs": [
    {
     "name": "stdout",
     "output_type": "stream",
     "text": [
      "/Users/amt/Documents/2025_ML_TSC/notebooks/Amanda\n"
     ]
    }
   ],
   "source": [
    "# Create output filename\n",
    "output_file = f\"pickdb_detections_{detections.iloc[0]['network_code']}.{detections.iloc[0]['station_code']}.{dt.year}.{julian_day:03d}.csv\"\n",
    "\n",
    "! pwd\n",
    "\n",
    "# Save selected columns to CSV\n",
    "detections[['phase', 'peak_time', 'confidence']].to_csv(output_file, index=False)"
   ]
  }
 ],
 "metadata": {
  "kernelspec": {
   "display_name": "pytorch",
   "language": "python",
   "name": "python3"
  },
  "language_info": {
   "codemirror_mode": {
    "name": "ipython",
    "version": 3
   },
   "file_extension": ".py",
   "mimetype": "text/x-python",
   "name": "python",
   "nbconvert_exporter": "python",
   "pygments_lexer": "ipython3",
   "version": "3.12.9"
  }
 },
 "nbformat": 4,
 "nbformat_minor": 5
}
