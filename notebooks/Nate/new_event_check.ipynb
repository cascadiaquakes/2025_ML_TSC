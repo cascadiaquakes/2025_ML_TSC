{
 "cells": [
  {
   "cell_type": "markdown",
   "metadata": {},
   "source": [
    "# New Event Check\n",
    ":auth: Nate Stevens  \n",
    ":email: ntsteven@uw.edu  \n",
    ":org: Pacific Northwest Seismic Network  \n",
    ":license: GPLv3  \n",
    ":purpose:  \n",
    "This notebook demonstrates an integration of ObsPy, ObsPlus, and Pyrocko for running  \n",
    "interactive, visual quality assessments on associations, events, and waveform data.  "
   ]
  },
  {
   "cell_type": "code",
   "execution_count": 1,
   "metadata": {},
   "outputs": [
    {
     "name": "stdout",
     "output_type": "stream",
     "text": [
      "zsh:1: no matches found: pyrocko[gui]\n"
     ]
    }
   ],
   "source": [
    "# Install dependency - WARNING: DOES NOT WORK ON JUPYTER HUB\n",
    "# ! pip install pyrocko[gui]"
   ]
  },
  {
   "cell_type": "code",
   "execution_count": 2,
   "metadata": {},
   "outputs": [],
   "source": [
    "from pathlib import Path\n",
    "from obsplus import EventBank\n",
    "from obspy.clients.fdsn import Client\n",
    "from obspy import UTCDateTime, Stream, Inventory\n",
    "from obspy_compat2 import *"
   ]
  },
  {
   "cell_type": "code",
   "execution_count": 3,
   "metadata": {},
   "outputs": [
    {
     "name": "stdout",
     "output_type": "stream",
     "text": [
      "/Users/nates/Code/GitHub/2025_ML_TSC/notebooks/Nate\n"
     ]
    }
   ],
   "source": [
    "ROOT = Path.cwd()\n",
    "print(ROOT)"
   ]
  },
  {
   "cell_type": "code",
   "execution_count": 4,
   "metadata": {},
   "outputs": [
    {
     "data": {
      "text/html": [
       "<div>\n",
       "<style scoped>\n",
       "    .dataframe tbody tr th:only-of-type {\n",
       "        vertical-align: middle;\n",
       "    }\n",
       "\n",
       "    .dataframe tbody tr th {\n",
       "        vertical-align: top;\n",
       "    }\n",
       "\n",
       "    .dataframe thead th {\n",
       "        text-align: right;\n",
       "    }\n",
       "</style>\n",
       "<table border=\"1\" class=\"dataframe\">\n",
       "  <thead>\n",
       "    <tr style=\"text-align: right;\">\n",
       "      <th></th>\n",
       "      <th>time</th>\n",
       "      <th>latitude</th>\n",
       "      <th>longitude</th>\n",
       "      <th>depth</th>\n",
       "      <th>magnitude</th>\n",
       "      <th>event_description</th>\n",
       "      <th>associated_phase_count</th>\n",
       "      <th>azimuthal_gap</th>\n",
       "      <th>event_id</th>\n",
       "      <th>horizontal_uncertainty</th>\n",
       "      <th>...</th>\n",
       "      <th>standard_error</th>\n",
       "      <th>used_phase_count</th>\n",
       "      <th>station_count</th>\n",
       "      <th>vertical_uncertainty</th>\n",
       "      <th>updated</th>\n",
       "      <th>author</th>\n",
       "      <th>agency_id</th>\n",
       "      <th>creation_time</th>\n",
       "      <th>version</th>\n",
       "      <th>path</th>\n",
       "    </tr>\n",
       "  </thead>\n",
       "  <tbody>\n",
       "    <tr>\n",
       "      <th>1082</th>\n",
       "      <td>2022-12-20 20:12:27.648</td>\n",
       "      <td>40.4553</td>\n",
       "      <td>-124.1846</td>\n",
       "      <td>-1098.0</td>\n",
       "      <td>-0.731</td>\n",
       "      <td></td>\n",
       "      <td>15.0</td>\n",
       "      <td>NaN</td>\n",
       "      <td>smi:local/event/921</td>\n",
       "      <td>NaN</td>\n",
       "      <td>...</td>\n",
       "      <td>0.580</td>\n",
       "      <td>15.0</td>\n",
       "      <td>9.0</td>\n",
       "      <td>749.0</td>\n",
       "      <td>2025-05-12 20:24:14.640252416</td>\n",
       "      <td></td>\n",
       "      <td></td>\n",
       "      <td>NaT</td>\n",
       "      <td></td>\n",
       "      <td>2022/12/20/20/921.xml</td>\n",
       "    </tr>\n",
       "    <tr>\n",
       "      <th>1077</th>\n",
       "      <td>2022-12-20 20:08:32.468</td>\n",
       "      <td>40.5779</td>\n",
       "      <td>-124.0120</td>\n",
       "      <td>1220.0</td>\n",
       "      <td>-0.442</td>\n",
       "      <td></td>\n",
       "      <td>14.0</td>\n",
       "      <td>NaN</td>\n",
       "      <td>smi:local/event/916</td>\n",
       "      <td>NaN</td>\n",
       "      <td>...</td>\n",
       "      <td>0.566</td>\n",
       "      <td>14.0</td>\n",
       "      <td>10.0</td>\n",
       "      <td>655.0</td>\n",
       "      <td>2025-05-12 20:24:14.633922304</td>\n",
       "      <td></td>\n",
       "      <td></td>\n",
       "      <td>NaT</td>\n",
       "      <td></td>\n",
       "      <td>2022/12/20/20/916.xml</td>\n",
       "    </tr>\n",
       "    <tr>\n",
       "      <th>885</th>\n",
       "      <td>2022-12-20 19:37:21.992</td>\n",
       "      <td>40.4496</td>\n",
       "      <td>-124.0100</td>\n",
       "      <td>-1984.0</td>\n",
       "      <td>-0.391</td>\n",
       "      <td></td>\n",
       "      <td>14.0</td>\n",
       "      <td>NaN</td>\n",
       "      <td>smi:local/event/886</td>\n",
       "      <td>NaN</td>\n",
       "      <td>...</td>\n",
       "      <td>0.770</td>\n",
       "      <td>14.0</td>\n",
       "      <td>10.0</td>\n",
       "      <td>441.0</td>\n",
       "      <td>2025-05-12 20:23:49.982156544</td>\n",
       "      <td></td>\n",
       "      <td></td>\n",
       "      <td>NaT</td>\n",
       "      <td></td>\n",
       "      <td>2022/12/20/19/886.xml</td>\n",
       "    </tr>\n",
       "    <tr>\n",
       "      <th>68</th>\n",
       "      <td>2022-12-20 10:56:09.447</td>\n",
       "      <td>40.3232</td>\n",
       "      <td>-124.3160</td>\n",
       "      <td>-668.0</td>\n",
       "      <td>-0.273</td>\n",
       "      <td></td>\n",
       "      <td>11.0</td>\n",
       "      <td>NaN</td>\n",
       "      <td>smi:local/event/69</td>\n",
       "      <td>NaN</td>\n",
       "      <td>...</td>\n",
       "      <td>0.523</td>\n",
       "      <td>11.0</td>\n",
       "      <td>8.0</td>\n",
       "      <td>1004.0</td>\n",
       "      <td>2025-05-12 20:23:49.036283904</td>\n",
       "      <td></td>\n",
       "      <td></td>\n",
       "      <td>NaT</td>\n",
       "      <td></td>\n",
       "      <td>2022/12/20/10/69.xml</td>\n",
       "    </tr>\n",
       "    <tr>\n",
       "      <th>1086</th>\n",
       "      <td>2022-12-20 20:16:43.431</td>\n",
       "      <td>40.5128</td>\n",
       "      <td>-124.1336</td>\n",
       "      <td>-1997.0</td>\n",
       "      <td>-0.200</td>\n",
       "      <td></td>\n",
       "      <td>15.0</td>\n",
       "      <td>NaN</td>\n",
       "      <td>smi:local/event/925</td>\n",
       "      <td>NaN</td>\n",
       "      <td>...</td>\n",
       "      <td>1.111</td>\n",
       "      <td>15.0</td>\n",
       "      <td>12.0</td>\n",
       "      <td>540.0</td>\n",
       "      <td>2025-05-12 20:24:14.643932672</td>\n",
       "      <td></td>\n",
       "      <td></td>\n",
       "      <td>NaT</td>\n",
       "      <td></td>\n",
       "      <td>2022/12/20/20/925.xml</td>\n",
       "    </tr>\n",
       "    <tr>\n",
       "      <th>...</th>\n",
       "      <td>...</td>\n",
       "      <td>...</td>\n",
       "      <td>...</td>\n",
       "      <td>...</td>\n",
       "      <td>...</td>\n",
       "      <td>...</td>\n",
       "      <td>...</td>\n",
       "      <td>...</td>\n",
       "      <td>...</td>\n",
       "      <td>...</td>\n",
       "      <td>...</td>\n",
       "      <td>...</td>\n",
       "      <td>...</td>\n",
       "      <td>...</td>\n",
       "      <td>...</td>\n",
       "      <td>...</td>\n",
       "      <td>...</td>\n",
       "      <td>...</td>\n",
       "      <td>...</td>\n",
       "      <td>...</td>\n",
       "      <td>...</td>\n",
       "    </tr>\n",
       "    <tr>\n",
       "      <th>941</th>\n",
       "      <td>2022-12-20 22:06:47.583</td>\n",
       "      <td>39.8366</td>\n",
       "      <td>-123.2902</td>\n",
       "      <td>36555.0</td>\n",
       "      <td>4.027</td>\n",
       "      <td></td>\n",
       "      <td>16.0</td>\n",
       "      <td>NaN</td>\n",
       "      <td>smi:local/event/1051</td>\n",
       "      <td>NaN</td>\n",
       "      <td>...</td>\n",
       "      <td>0.582</td>\n",
       "      <td>16.0</td>\n",
       "      <td>10.0</td>\n",
       "      <td>390.0</td>\n",
       "      <td>2025-05-12 20:23:50.149746432</td>\n",
       "      <td></td>\n",
       "      <td></td>\n",
       "      <td>NaT</td>\n",
       "      <td></td>\n",
       "      <td>2022/12/20/22/1051.xml</td>\n",
       "    </tr>\n",
       "    <tr>\n",
       "      <th>510</th>\n",
       "      <td>2022-12-20 15:09:05.545</td>\n",
       "      <td>40.6037</td>\n",
       "      <td>-124.0766</td>\n",
       "      <td>24014.0</td>\n",
       "      <td>4.331</td>\n",
       "      <td></td>\n",
       "      <td>86.0</td>\n",
       "      <td>NaN</td>\n",
       "      <td>smi:local/event/511</td>\n",
       "      <td>NaN</td>\n",
       "      <td>...</td>\n",
       "      <td>0.327</td>\n",
       "      <td>86.0</td>\n",
       "      <td>48.0</td>\n",
       "      <td>163.0</td>\n",
       "      <td>2025-05-12 20:23:49.587475456</td>\n",
       "      <td></td>\n",
       "      <td></td>\n",
       "      <td>NaT</td>\n",
       "      <td></td>\n",
       "      <td>2022/12/20/15/511.xml</td>\n",
       "    </tr>\n",
       "    <tr>\n",
       "      <th>940</th>\n",
       "      <td>2022-12-20 22:06:34.276</td>\n",
       "      <td>40.5328</td>\n",
       "      <td>-124.3388</td>\n",
       "      <td>17929.0</td>\n",
       "      <td>4.508</td>\n",
       "      <td></td>\n",
       "      <td>94.0</td>\n",
       "      <td>NaN</td>\n",
       "      <td>smi:local/event/1050</td>\n",
       "      <td>NaN</td>\n",
       "      <td>...</td>\n",
       "      <td>0.490</td>\n",
       "      <td>94.0</td>\n",
       "      <td>55.0</td>\n",
       "      <td>123.0</td>\n",
       "      <td>2025-05-12 20:23:50.149095424</td>\n",
       "      <td></td>\n",
       "      <td></td>\n",
       "      <td>NaT</td>\n",
       "      <td></td>\n",
       "      <td>2022/12/20/22/1050.xml</td>\n",
       "    </tr>\n",
       "    <tr>\n",
       "      <th>21</th>\n",
       "      <td>2022-12-20 10:39:02.253</td>\n",
       "      <td>40.5212</td>\n",
       "      <td>-124.1818</td>\n",
       "      <td>27076.0</td>\n",
       "      <td>4.563</td>\n",
       "      <td></td>\n",
       "      <td>93.0</td>\n",
       "      <td>NaN</td>\n",
       "      <td>smi:local/event/22</td>\n",
       "      <td>NaN</td>\n",
       "      <td>...</td>\n",
       "      <td>0.427</td>\n",
       "      <td>93.0</td>\n",
       "      <td>58.0</td>\n",
       "      <td>146.0</td>\n",
       "      <td>2025-05-12 20:23:48.973626368</td>\n",
       "      <td></td>\n",
       "      <td></td>\n",
       "      <td>NaT</td>\n",
       "      <td></td>\n",
       "      <td>2022/12/20/10/22.xml</td>\n",
       "    </tr>\n",
       "    <tr>\n",
       "      <th>13</th>\n",
       "      <td>2022-12-20 10:34:24.607</td>\n",
       "      <td>40.5131</td>\n",
       "      <td>-124.4210</td>\n",
       "      <td>12994.0</td>\n",
       "      <td>6.090</td>\n",
       "      <td></td>\n",
       "      <td>103.0</td>\n",
       "      <td>NaN</td>\n",
       "      <td>smi:local/event/14</td>\n",
       "      <td>NaN</td>\n",
       "      <td>...</td>\n",
       "      <td>0.628</td>\n",
       "      <td>103.0</td>\n",
       "      <td>62.0</td>\n",
       "      <td>96.0</td>\n",
       "      <td>2025-05-12 20:23:48.961140992</td>\n",
       "      <td></td>\n",
       "      <td></td>\n",
       "      <td>NaT</td>\n",
       "      <td></td>\n",
       "      <td>2022/12/20/10/14.xml</td>\n",
       "    </tr>\n",
       "  </tbody>\n",
       "</table>\n",
       "<p>1161 rows × 28 columns</p>\n",
       "</div>"
      ],
      "text/plain": [
       "                        time  latitude  longitude    depth  magnitude  \\\n",
       "1082 2022-12-20 20:12:27.648   40.4553  -124.1846  -1098.0     -0.731   \n",
       "1077 2022-12-20 20:08:32.468   40.5779  -124.0120   1220.0     -0.442   \n",
       "885  2022-12-20 19:37:21.992   40.4496  -124.0100  -1984.0     -0.391   \n",
       "68   2022-12-20 10:56:09.447   40.3232  -124.3160   -668.0     -0.273   \n",
       "1086 2022-12-20 20:16:43.431   40.5128  -124.1336  -1997.0     -0.200   \n",
       "...                      ...       ...        ...      ...        ...   \n",
       "941  2022-12-20 22:06:47.583   39.8366  -123.2902  36555.0      4.027   \n",
       "510  2022-12-20 15:09:05.545   40.6037  -124.0766  24014.0      4.331   \n",
       "940  2022-12-20 22:06:34.276   40.5328  -124.3388  17929.0      4.508   \n",
       "21   2022-12-20 10:39:02.253   40.5212  -124.1818  27076.0      4.563   \n",
       "13   2022-12-20 10:34:24.607   40.5131  -124.4210  12994.0      6.090   \n",
       "\n",
       "     event_description  associated_phase_count  azimuthal_gap  \\\n",
       "1082                                      15.0            NaN   \n",
       "1077                                      14.0            NaN   \n",
       "885                                       14.0            NaN   \n",
       "68                                        11.0            NaN   \n",
       "1086                                      15.0            NaN   \n",
       "...                ...                     ...            ...   \n",
       "941                                       16.0            NaN   \n",
       "510                                       86.0            NaN   \n",
       "940                                       94.0            NaN   \n",
       "21                                        93.0            NaN   \n",
       "13                                       103.0            NaN   \n",
       "\n",
       "                  event_id  horizontal_uncertainty  ...  standard_error  \\\n",
       "1082   smi:local/event/921                     NaN  ...           0.580   \n",
       "1077   smi:local/event/916                     NaN  ...           0.566   \n",
       "885    smi:local/event/886                     NaN  ...           0.770   \n",
       "68      smi:local/event/69                     NaN  ...           0.523   \n",
       "1086   smi:local/event/925                     NaN  ...           1.111   \n",
       "...                    ...                     ...  ...             ...   \n",
       "941   smi:local/event/1051                     NaN  ...           0.582   \n",
       "510    smi:local/event/511                     NaN  ...           0.327   \n",
       "940   smi:local/event/1050                     NaN  ...           0.490   \n",
       "21      smi:local/event/22                     NaN  ...           0.427   \n",
       "13      smi:local/event/14                     NaN  ...           0.628   \n",
       "\n",
       "      used_phase_count  station_count vertical_uncertainty  \\\n",
       "1082              15.0            9.0                749.0   \n",
       "1077              14.0           10.0                655.0   \n",
       "885               14.0           10.0                441.0   \n",
       "68                11.0            8.0               1004.0   \n",
       "1086              15.0           12.0                540.0   \n",
       "...                ...            ...                  ...   \n",
       "941               16.0           10.0                390.0   \n",
       "510               86.0           48.0                163.0   \n",
       "940               94.0           55.0                123.0   \n",
       "21                93.0           58.0                146.0   \n",
       "13               103.0           62.0                 96.0   \n",
       "\n",
       "                           updated  author  agency_id  creation_time  version  \\\n",
       "1082 2025-05-12 20:24:14.640252416                               NaT            \n",
       "1077 2025-05-12 20:24:14.633922304                               NaT            \n",
       "885  2025-05-12 20:23:49.982156544                               NaT            \n",
       "68   2025-05-12 20:23:49.036283904                               NaT            \n",
       "1086 2025-05-12 20:24:14.643932672                               NaT            \n",
       "...                            ...     ...        ...            ...      ...   \n",
       "941  2025-05-12 20:23:50.149746432                               NaT            \n",
       "510  2025-05-12 20:23:49.587475456                               NaT            \n",
       "940  2025-05-12 20:23:50.149095424                               NaT            \n",
       "21   2025-05-12 20:23:48.973626368                               NaT            \n",
       "13   2025-05-12 20:23:48.961140992                               NaT            \n",
       "\n",
       "                        path  \n",
       "1082   2022/12/20/20/921.xml  \n",
       "1077   2022/12/20/20/916.xml  \n",
       "885    2022/12/20/19/886.xml  \n",
       "68      2022/12/20/10/69.xml  \n",
       "1086   2022/12/20/20/925.xml  \n",
       "...                      ...  \n",
       "941   2022/12/20/22/1051.xml  \n",
       "510    2022/12/20/15/511.xml  \n",
       "940   2022/12/20/22/1050.xml  \n",
       "21      2022/12/20/10/22.xml  \n",
       "13      2022/12/20/10/14.xml  \n",
       "\n",
       "[1161 rows x 28 columns]"
      ]
     },
     "metadata": {},
     "output_type": "display_data"
    }
   ],
   "source": [
    "# Add functionalities to ObsPy objects\n",
    "obspy_compat.plant()\n",
    "# Connect to the eventbank from catalog_management.ipynb\n",
    "ebank = EventBank(base_path=ROOT/'catalog_files'/'EventBank')\n",
    "# Confirmation checks that we connected to the right EventBank\n",
    "df_eb = ebank.read_index()\n",
    "if ebank.path_structure != '{year}/{month}/{day}/{hour}':\n",
    "    raise ValueError('does not appear that we are pointing at our EventBank made in exercise 2')\n",
    "else:\n",
    "    display(df_eb.sort_values('magnitude'))\n",
    "# Connect to Webservices from Northern California Earthquake Data Center\n",
    "wclient = Client('NCEDC')"
   ]
  },
  {
   "cell_type": "code",
   "execution_count": 5,
   "metadata": {},
   "outputs": [
    {
     "data": {
      "text/plain": [
       "1 Event(s) in Catalog:\n",
       "2022-12-20T10:34:24.607000Z | +40.513, -124.421 | 6.09 None"
      ]
     },
     "metadata": {},
     "output_type": "display_data"
    }
   ],
   "source": [
    "# Pick a number between 0 and 1161\n",
    "myidx = 13\n",
    "evid = df_eb.iloc[myidx].event_id\n",
    "cat = ebank.get_events(event_id = evid)\n",
    "display(cat)"
   ]
  },
  {
   "cell_type": "markdown",
   "metadata": {},
   "source": [
    "We have to run some cross-checks to make sure picks and queried waveforms have the same NSLC codes"
   ]
  },
  {
   "cell_type": "code",
   "execution_count": 6,
   "metadata": {},
   "outputs": [
    {
     "data": {
      "text/plain": [
       "'NP.1584B.10.HNZ'"
      ]
     },
     "metadata": {},
     "output_type": "display_data"
    },
    {
     "data": {
      "text/plain": [
       "'NC.KCT..HHZ'"
      ]
     },
     "metadata": {},
     "output_type": "display_data"
    },
    {
     "data": {
      "text/plain": [
       "'NP.1023.10.HNZ'"
      ]
     },
     "metadata": {},
     "output_type": "display_data"
    },
    {
     "data": {
      "text/plain": [
       "'NP.1586.10.HNZ'"
      ]
     },
     "metadata": {},
     "output_type": "display_data"
    },
    {
     "data": {
      "text/plain": [
       "'PB.B046..EHZ'"
      ]
     },
     "metadata": {},
     "output_type": "display_data"
    },
    {
     "data": {
      "text/plain": [
       "'CE.89255..HNZ'"
      ]
     },
     "metadata": {},
     "output_type": "display_data"
    },
    {
     "data": {
      "text/plain": [
       "'NC.KMPB..HHZ'"
      ]
     },
     "metadata": {},
     "output_type": "display_data"
    },
    {
     "data": {
      "text/plain": [
       "'CE.89462..HNZ'"
      ]
     },
     "metadata": {},
     "output_type": "display_data"
    },
    {
     "data": {
      "text/plain": [
       "'NP.1582.10.HNZ'"
      ]
     },
     "metadata": {},
     "output_type": "display_data"
    },
    {
     "data": {
      "text/plain": [
       "'NP.1581.10.HNZ'"
      ]
     },
     "metadata": {},
     "output_type": "display_data"
    },
    {
     "data": {
      "text/plain": [
       "'PB.B932..EHZ'"
      ]
     },
     "metadata": {},
     "output_type": "display_data"
    },
    {
     "data": {
      "text/plain": [
       "'NC.KCO..HNZ'"
      ]
     },
     "metadata": {},
     "output_type": "display_data"
    },
    {
     "data": {
      "text/plain": [
       "'PB.B045..EHZ'"
      ]
     },
     "metadata": {},
     "output_type": "display_data"
    },
    {
     "data": {
      "text/plain": [
       "'CE.89781.10.HNZ'"
      ]
     },
     "metadata": {},
     "output_type": "display_data"
    },
    {
     "data": {
      "text/plain": [
       "'PB.B047..EHZ'"
      ]
     },
     "metadata": {},
     "output_type": "display_data"
    },
    {
     "data": {
      "text/plain": [
       "'BK.BJES.00.HHZ'"
      ]
     },
     "metadata": {},
     "output_type": "display_data"
    },
    {
     "data": {
      "text/plain": [
       "'NC.KPR.01.HNZ'"
      ]
     },
     "metadata": {},
     "output_type": "display_data"
    },
    {
     "data": {
      "text/plain": [
       "'NP.1580.10.HNZ'"
      ]
     },
     "metadata": {},
     "output_type": "display_data"
    },
    {
     "data": {
      "text/plain": [
       "'BK.KNEE.00.HHZ'"
      ]
     },
     "metadata": {},
     "output_type": "display_data"
    },
    {
     "data": {
      "text/plain": [
       "'NC.KCR.03.HNZ'"
      ]
     },
     "metadata": {},
     "output_type": "display_data"
    },
    {
     "data": {
      "text/plain": [
       "'BK.PRDS.00.HHZ'"
      ]
     },
     "metadata": {},
     "output_type": "display_data"
    },
    {
     "data": {
      "text/plain": [
       "'BK.DMOR.00.HHZ'"
      ]
     },
     "metadata": {},
     "output_type": "display_data"
    },
    {
     "data": {
      "text/plain": [
       "'CE.89688..HNZ'"
      ]
     },
     "metadata": {},
     "output_type": "display_data"
    },
    {
     "data": {
      "text/plain": [
       "'PB.B049..EHZ'"
      ]
     },
     "metadata": {},
     "output_type": "display_data"
    },
    {
     "data": {
      "text/plain": [
       "'NC.KTD.01.HNZ'"
      ]
     },
     "metadata": {},
     "output_type": "display_data"
    },
    {
     "data": {
      "text/plain": [
       "'BK.BRIC.00.HHZ'"
      ]
     },
     "metadata": {},
     "output_type": "display_data"
    },
    {
     "data": {
      "text/plain": [
       "'NC.KHMB..HHZ'"
      ]
     },
     "metadata": {},
     "output_type": "display_data"
    },
    {
     "data": {
      "text/plain": [
       "'PB.B935..EHZ'"
      ]
     },
     "metadata": {},
     "output_type": "display_data"
    },
    {
     "data": {
      "text/plain": [
       "'NP.1591.10.HNZ'"
      ]
     },
     "metadata": {},
     "output_type": "display_data"
    },
    {
     "data": {
      "text/plain": [
       "'NC.KRP..HHZ'"
      ]
     },
     "metadata": {},
     "output_type": "display_data"
    },
    {
     "data": {
      "text/plain": [
       "'NC.KCSB.01.HNZ'"
      ]
     },
     "metadata": {},
     "output_type": "display_data"
    },
    {
     "data": {
      "text/plain": [
       "'CE.99700..HNZ'"
      ]
     },
     "metadata": {},
     "output_type": "display_data"
    },
    {
     "data": {
      "text/plain": [
       "'PB.B934..EHZ'"
      ]
     },
     "metadata": {},
     "output_type": "display_data"
    },
    {
     "data": {
      "text/plain": [
       "'CE.79046..HNZ'"
      ]
     },
     "metadata": {},
     "output_type": "display_data"
    },
    {
     "data": {
      "text/plain": [
       "'BK.HAYF.00.HHZ'"
      ]
     },
     "metadata": {},
     "output_type": "display_data"
    },
    {
     "data": {
      "text/plain": [
       "'NC.KHBB..HHZ'"
      ]
     },
     "metadata": {},
     "output_type": "display_data"
    },
    {
     "data": {
      "text/plain": [
       "'NC.KOM.02.HNZ'"
      ]
     },
     "metadata": {},
     "output_type": "display_data"
    },
    {
     "data": {
      "text/plain": [
       "'BK.RVIT.00.HHZ'"
      ]
     },
     "metadata": {},
     "output_type": "display_data"
    },
    {
     "data": {
      "text/plain": [
       "'BK.WEAV.00.HHZ'"
      ]
     },
     "metadata": {},
     "output_type": "display_data"
    },
    {
     "data": {
      "text/plain": [
       "'NC.KBN.01.HNZ'"
      ]
     },
     "metadata": {},
     "output_type": "display_data"
    },
    {
     "data": {
      "text/plain": [
       "'CE.79036.10.HNZ'"
      ]
     },
     "metadata": {},
     "output_type": "display_data"
    },
    {
     "data": {
      "text/plain": [
       "'BK.MNDO.00.HHZ'"
      ]
     },
     "metadata": {},
     "output_type": "display_data"
    },
    {
     "data": {
      "text/plain": [
       "'BK.DCMP.01.HHZ'"
      ]
     },
     "metadata": {},
     "output_type": "display_data"
    },
    {
     "data": {
      "text/plain": [
       "'BK.PETY.00.HHZ'"
      ]
     },
     "metadata": {},
     "output_type": "display_data"
    },
    {
     "data": {
      "text/plain": [
       "'CE.79668..HNZ'"
      ]
     },
     "metadata": {},
     "output_type": "display_data"
    },
    {
     "data": {
      "text/plain": [
       "'NC.LSF..EHZ'"
      ]
     },
     "metadata": {},
     "output_type": "display_data"
    },
    {
     "data": {
      "text/plain": [
       "'NC.LBK..EHZ'"
      ]
     },
     "metadata": {},
     "output_type": "display_data"
    },
    {
     "data": {
      "text/plain": [
       "'NC.GBL.01.HNZ'"
      ]
     },
     "metadata": {},
     "output_type": "display_data"
    },
    {
     "data": {
      "text/plain": [
       "'NC.GVA.01.HNZ'"
      ]
     },
     "metadata": {},
     "output_type": "display_data"
    },
    {
     "data": {
      "text/plain": [
       "'BK.SCOT.01.HHZ'"
      ]
     },
     "metadata": {},
     "output_type": "display_data"
    },
    {
     "data": {
      "text/plain": [
       "'NC.LRB..EHZ'"
      ]
     },
     "metadata": {},
     "output_type": "display_data"
    },
    {
     "data": {
      "text/plain": [
       "'NC.GWR.01.HNZ'"
      ]
     },
     "metadata": {},
     "output_type": "display_data"
    },
    {
     "data": {
      "text/plain": [
       "'NC.GHO.01.HNZ'"
      ]
     },
     "metadata": {},
     "output_type": "display_data"
    },
    {
     "data": {
      "text/plain": [
       "'CE.79666.10.HNZ'"
      ]
     },
     "metadata": {},
     "output_type": "display_data"
    },
    {
     "data": {
      "text/plain": [
       "'NC.GCWB.01.HNZ'"
      ]
     },
     "metadata": {},
     "output_type": "display_data"
    },
    {
     "data": {
      "text/plain": [
       "'NC.GHGB.01.HHZ'"
      ]
     },
     "metadata": {},
     "output_type": "display_data"
    },
    {
     "data": {
      "text/plain": [
       "'NP.1584B.10.HNN'"
      ]
     },
     "metadata": {},
     "output_type": "display_data"
    },
    {
     "data": {
      "text/plain": [
       "'NC.KCT..HHN'"
      ]
     },
     "metadata": {},
     "output_type": "display_data"
    },
    {
     "data": {
      "text/plain": [
       "'NP.1023.10.HNN'"
      ]
     },
     "metadata": {},
     "output_type": "display_data"
    },
    {
     "data": {
      "text/plain": [
       "'NC.KMPB..HHN'"
      ]
     },
     "metadata": {},
     "output_type": "display_data"
    },
    {
     "data": {
      "text/plain": [
       "'BK.PETL.00.HHN'"
      ]
     },
     "metadata": {},
     "output_type": "display_data"
    },
    {
     "data": {
      "text/plain": [
       "'CE.89255..HNN'"
      ]
     },
     "metadata": {},
     "output_type": "display_data"
    },
    {
     "data": {
      "text/plain": [
       "'NP.1586.10.HNN'"
      ]
     },
     "metadata": {},
     "output_type": "display_data"
    },
    {
     "data": {
      "text/plain": [
       "'CE.89462..HNN'"
      ]
     },
     "metadata": {},
     "output_type": "display_data"
    },
    {
     "data": {
      "text/plain": [
       "'NP.1582.10.HNN'"
      ]
     },
     "metadata": {},
     "output_type": "display_data"
    },
    {
     "data": {
      "text/plain": [
       "'BK.RBOW.00.HHN'"
      ]
     },
     "metadata": {},
     "output_type": "display_data"
    },
    {
     "data": {
      "text/plain": [
       "'NP.1581.10.HNN'"
      ]
     },
     "metadata": {},
     "output_type": "display_data"
    },
    {
     "data": {
      "text/plain": [
       "'NC.KCO..HNN'"
      ]
     },
     "metadata": {},
     "output_type": "display_data"
    },
    {
     "data": {
      "text/plain": [
       "'CE.89781.10.HNN'"
      ]
     },
     "metadata": {},
     "output_type": "display_data"
    },
    {
     "data": {
      "text/plain": [
       "'NC.KPR.01.HNN'"
      ]
     },
     "metadata": {},
     "output_type": "display_data"
    },
    {
     "data": {
      "text/plain": [
       "'BK.BJES.00.HHN'"
      ]
     },
     "metadata": {},
     "output_type": "display_data"
    },
    {
     "data": {
      "text/plain": [
       "'BK.KNEE.00.HHN'"
      ]
     },
     "metadata": {},
     "output_type": "display_data"
    },
    {
     "data": {
      "text/plain": [
       "'NP.1580.10.HNN'"
      ]
     },
     "metadata": {},
     "output_type": "display_data"
    },
    {
     "data": {
      "text/plain": [
       "'NC.KCR.03.HNN'"
      ]
     },
     "metadata": {},
     "output_type": "display_data"
    },
    {
     "data": {
      "text/plain": [
       "'BK.PRDS.00.HHN'"
      ]
     },
     "metadata": {},
     "output_type": "display_data"
    },
    {
     "data": {
      "text/plain": [
       "'CE.89688..HNN'"
      ]
     },
     "metadata": {},
     "output_type": "display_data"
    },
    {
     "data": {
      "text/plain": [
       "'CE.89464.10.HNN'"
      ]
     },
     "metadata": {},
     "output_type": "display_data"
    },
    {
     "data": {
      "text/plain": [
       "'BK.DMOR.00.HHN'"
      ]
     },
     "metadata": {},
     "output_type": "display_data"
    },
    {
     "data": {
      "text/plain": [
       "'NC.KBU.01.HNN'"
      ]
     },
     "metadata": {},
     "output_type": "display_data"
    },
    {
     "data": {
      "text/plain": [
       "'NC.KTD.01.HNN'"
      ]
     },
     "metadata": {},
     "output_type": "display_data"
    },
    {
     "data": {
      "text/plain": [
       "'BK.BRIC.00.HHN'"
      ]
     },
     "metadata": {},
     "output_type": "display_data"
    },
    {
     "data": {
      "text/plain": [
       "'NC.KHMB..HHN'"
      ]
     },
     "metadata": {},
     "output_type": "display_data"
    },
    {
     "data": {
      "text/plain": [
       "'NP.1591.10.HNN'"
      ]
     },
     "metadata": {},
     "output_type": "display_data"
    },
    {
     "data": {
      "text/plain": [
       "'NC.KMR..HHN'"
      ]
     },
     "metadata": {},
     "output_type": "display_data"
    },
    {
     "data": {
      "text/plain": [
       "'NC.KRP..HHN'"
      ]
     },
     "metadata": {},
     "output_type": "display_data"
    },
    {
     "data": {
      "text/plain": [
       "'NC.KCSB.01.HNN'"
      ]
     },
     "metadata": {},
     "output_type": "display_data"
    },
    {
     "data": {
      "text/plain": [
       "'CE.99700..HNN'"
      ]
     },
     "metadata": {},
     "output_type": "display_data"
    },
    {
     "data": {
      "text/plain": [
       "'NC.KHBB..HHN'"
      ]
     },
     "metadata": {},
     "output_type": "display_data"
    },
    {
     "data": {
      "text/plain": [
       "'BK.HAYF.00.HHN'"
      ]
     },
     "metadata": {},
     "output_type": "display_data"
    },
    {
     "data": {
      "text/plain": [
       "'NC.KOM.02.HNN'"
      ]
     },
     "metadata": {},
     "output_type": "display_data"
    },
    {
     "data": {
      "text/plain": [
       "'BK.WEAV.00.HHN'"
      ]
     },
     "metadata": {},
     "output_type": "display_data"
    },
    {
     "data": {
      "text/plain": [
       "'BK.RVIT.00.HHN'"
      ]
     },
     "metadata": {},
     "output_type": "display_data"
    },
    {
     "data": {
      "text/plain": [
       "'CE.79298.10.HNN'"
      ]
     },
     "metadata": {},
     "output_type": "display_data"
    },
    {
     "data": {
      "text/plain": [
       "'NC.KBN.01.HNN'"
      ]
     },
     "metadata": {},
     "output_type": "display_data"
    },
    {
     "data": {
      "text/plain": [
       "'BK.DCMP.01.HHN'"
      ]
     },
     "metadata": {},
     "output_type": "display_data"
    },
    {
     "data": {
      "text/plain": [
       "'NC.GBL.01.HNN'"
      ]
     },
     "metadata": {},
     "output_type": "display_data"
    },
    {
     "data": {
      "text/plain": [
       "'BK.SCOT.01.HHN'"
      ]
     },
     "metadata": {},
     "output_type": "display_data"
    },
    {
     "data": {
      "text/plain": [
       "152 Trace(s) in Stream:\n",
       "\n",
       "BK.BJES.00.HHE | 2022-12-20T10:34:31.150000Z - 2022-12-20T10:35:11.140000Z | 100.0 Hz, 4000 samples\n",
       "...\n",
       "(150 other traces)\n",
       "...\n",
       "PB.B935..EHZ | 2022-12-20T10:34:27.528393Z - 2022-12-20T10:35:07.518393Z | 100.0 Hz, 4000 samples\n",
       "\n",
       "[Use \"print(Stream.__str__(extended=True))\" to print all Traces]"
      ]
     },
     "execution_count": 6,
     "metadata": {},
     "output_type": "execute_result"
    }
   ],
   "source": [
    "# Apply channel code updates to pick objects as they are able to match to waveform data\n",
    "# A lot of this headache can be skipped if a full NSLC station index is saved... we don't have that from hypodd outputs.\n",
    "st = Stream()\n",
    "inv = Inventory()\n",
    "client = Client('NCEDC')\n",
    "front_pad = 10\n",
    "back_pad = 30\n",
    "for pick in cat[0].picks:\n",
    "    tp = pick.time\n",
    "    wfid = pick.waveform_id\n",
    "    # Preferred heirarchy of band codes\n",
    "    for _b in 'HE':\n",
    "        # Preferred heirarchy of instrument codes\n",
    "        for _i in 'HN':\n",
    "            # Try to get waveform data\n",
    "            try:\n",
    "                _st = client.get_waveforms(wfid.network_code,\n",
    "                                        wfid.station_code,\n",
    "                                        '*',\n",
    "                                        f'{_b}{_i}{wfid.channel_code}',\n",
    "                                        tp - front_pad,\n",
    "                                        tp + back_pad)\n",
    "            except:\n",
    "                continue\n",
    "\n",
    "            if len(_st) > 0:\n",
    "                pick.waveform_id.channel_code = _st[0].stats.channel\n",
    "                pick.waveform_id.location_code = _st[0].stats.location\n",
    "                display(pick.waveform_id.id)\n",
    "                st += _st\n",
    "                inv += client.get_stations(starttime=tp,\n",
    "                                           network=pick.waveform_id.network_code,\n",
    "                                           station=pick.waveform_id.station_code,\n",
    "                                           location=pick.waveform_id.location_code,\n",
    "                                           channel=pick.waveform_id.channel_code,\n",
    "                                           level='channel')\n",
    "                if pick.waveform_id.channel_code[-1] == 'N':\n",
    "                    st += client.get_waveforms(wfid.network_code,\n",
    "                                               wfid.station_code,\n",
    "                                               '*',\n",
    "                                               f'{_b}{_i}E',\n",
    "                                               tp - front_pad,\n",
    "                                               tp + back_pad)    \n",
    "                \n",
    "                continue\n",
    "\n",
    "# Merge traces to deduplicate samples\n",
    "st.merge()\n"
   ]
  },
  {
   "cell_type": "code",
   "execution_count": 7,
   "metadata": {},
   "outputs": [
    {
     "data": {
      "text/plain": [
       "152 Trace(s) in Stream:\n",
       "\n",
       "BK.BJES.00.HHE | 2022-12-20T10:34:31.150000Z - 2022-12-20T10:35:11.140000Z | 100.0 Hz, 4000 samples\n",
       "...\n",
       "(150 other traces)\n",
       "...\n",
       "PB.B935..EHZ | 2022-12-20T10:34:27.528393Z - 2022-12-20T10:35:07.518393Z | 100.0 Hz, 4000 samples\n",
       "\n",
       "[Use \"print(Stream.__str__(extended=True))\" to print all Traces]"
      ]
     },
     "metadata": {},
     "output_type": "display_data"
    },
    {
     "data": {
      "text/plain": [
       "Inventory created at 2025-05-13T15:29:43.275460Z\n",
       "\tCreated by: ObsPy 1.4.2\n",
       "\t\t    https://www.obspy.org\n",
       "\tSending institution: NCEDC,ObsPy 1.4.2 (NCEDC)\n",
       "\tContains:\n",
       "\t\tNetworks (97):\n",
       "\t\t\tBK (24x), CE (16x), NC (36x), NP (14x), PB (7x)\n",
       "\t\tStations (97):\n",
       "\t\t\tBK.BJES (Bald Jesse, Humboldt County, CA) (2x)\n",
       "\t\t\tBK.BRIC (Briceland Vineyard, Redway, CA) (2x)\n",
       "\t\t\tBK.DCMP (DeCamp, Mendocino County, CA) (2x)\n",
       "\t\t\tBK.DMOR (Dinsmores, Humboldt County, CA) (2x)\n",
       "\t\t\tBK.HAYF (Tule Creek, Hayfork, CA) (2x)\n",
       "\t\t\tBK.KNEE (Kneeland/Ashfield Ridge) (2x)\n",
       "\t\t\tBK.MNDO (Woodlands Fire Station, Mendocino, CA)\n",
       "\t\t\tBK.PETL (Punta Gorda, Petrolia, CA)\n",
       "\t\t\tBK.PETY (Pettyjohn Place, Tehama County, CA)\n",
       "\t\t\tBK.PRDS (Paradise Ridge) (2x)\n",
       "\t\t\tBK.RBOW (Rainbow Ridge, Humboldt, CA)\n",
       "\t\t\tBK.RVIT (Round Valley Indian Tribe, Mendocino County, CA) (2x)\n",
       "\t\t\tBK.SCOT (Callahan, CA, USA) (2x)\n",
       "\t\t\tBK.WEAV (Weaverville, CA USA) (2x)\n",
       "\t\t\tCE.79036 (Covelo - CDF Fire Station)\n",
       "\t\t\tCE.79046 (Rockport A)\n",
       "\t\t\tCE.79298 (Fort Bragg - Hwy 1 & Ocean View)\n",
       "\t\t\tCE.79666 (Ukiah - Hensley Creek & N State)\n",
       "\t\t\tCE.79668 (Willits - Rutler Ranch A)\n",
       "\t\t\tCE.89255 (Fortuna - Smith & Fortuna Blvd) (2x)\n",
       "\t\t\tCE.89462 (Rio Dell - 101/Painter St Overpass Grnds) (2x)\n",
       "\t\t\tCE.89464 (Arcata - Hwy 101/Murray Rd Bridge Grds)\n",
       "\t\t\tCE.89688 (Shelter Cove - Airport A) (2x)\n",
       "\t\t\tCE.89781 (Eureka - Harris & Dolbeer) (2x)\n",
       "\t\t\tCE.99700 (Orick - Volunteer Fire Station) (2x)\n",
       "\t\t\tNC.GBL (Beacon Light) (2x)\n",
       "\t\t\tNC.GCWB (Cow Mountain)\n",
       "\t\t\tNC.GHGB (Hogback Ridge)\n",
       "\t\t\tNC.GHO (Hamilton Opening)\n",
       "\t\t\tNC.GVA (Van Arsdale)\n",
       "\t\t\tNC.GWR (Wonder Ranch)\n",
       "\t\t\tNC.KBN (Bluenose Ridge) (2x)\n",
       "\t\t\tNC.KBU (Burgh Ranch)\n",
       "\t\t\tNC.KCO (Cooskie Peak) (2x)\n",
       "\t\t\tNC.KCR (Chalk Rock #2) (2x)\n",
       "\t\t\tNC.KCSB (Cold Springs) (2x)\n",
       "\t\t\tNC.KCT (Cape Town) (2x)\n",
       "\t\t\tNC.KHBB (Hayfork Bally) (2x)\n",
       "\t\t\tNC.KHMB (Horse Mountain) (2x)\n",
       "\t\t\tNC.KMPB (Mount Pierce) (2x)\n",
       "\t\t\tNC.KMR (Mail Ridge)\n",
       "\t\t\tNC.KOM (Orleans Mountain) (2x)\n",
       "\t\t\tNC.KPR (Pringle Ridge) (2x)\n",
       "\t\t\tNC.KRP (Rodgers #3) (2x)\n",
       "\t\t\tNC.KTD (Trinidad Head) (2x)\n",
       "\t\t\tNC.LBK (Bonanza King)\n",
       "\t\t\tNC.LRB (Red Bank)\n",
       "\t\t\tNC.LSF (South Fork)\n",
       "\t\t\tNP.1023 (Fire Station) (2x)\n",
       "\t\t\tNP.1580 (Cal Poly Humboldt.) (2x)\n",
       "\t\t\tNP.1581 (South Bay School) (2x)\n",
       "\t\t\tNP.1582 (College of the Redwoods) (2x)\n",
       "\t\t\tNP.1584B (Bunker Hill, NOAA Radar) (2x)\n",
       "\t\t\tNP.1586 (Loleta Fire Station) (2x)\n",
       "\t\t\tNP.1591 (Garberville; CALFire station) (2x)\n",
       "\t\t\tPB.B045 (rdcrst045bcn2008, Pepperwood, CA, USA)\n",
       "\t\t\tPB.B046 (mattol046scn2008, Petrolia, CA, USA)\n",
       "\t\t\tPB.B047 (chapmn047scn2008, Mendocino, CA, USA)\n",
       "\t\t\tPB.B049 (mirand049scn2008, Mendocino, CA, USA)\n",
       "\t\t\tPB.B932 (burogh932scn2008, Petrolia, CA, USA)\n",
       "\t\t\tPB.B934 (legget934bcn2008, Leggett, CA, USA)\n",
       "\t\t\tPB.B935 (dinsmr935bcn2008, Dinsmore, CA, USA)\n",
       "\t\tChannels (140):\n",
       "\t\t\tBK.BJES.00.HHZ (2x), BK.BJES.00.HHN (2x), BK.BRIC.00.HHZ (2x), \n",
       "\t\t\tBK.BRIC.00.HHN (2x), BK.DCMP.01.HHZ, BK.DCMP.01.HHN, BK.DMOR.00.HHZ\n",
       "\t\t\tBK.DMOR.00.HHN, BK.HAYF.00.HHZ (2x), BK.HAYF.00.HHN (2x), \n",
       "\t\t\tBK.KNEE.00.HHZ (2x), BK.KNEE.00.HHN (2x), BK.MNDO.00.HHZ (2x), \n",
       "\t\t\tBK.PETL.00.HHN (3x), BK.PETY.00.HHZ, BK.PRDS.00.HHZ (2x), \n",
       "\t\t\tBK.PRDS.00.HHN (2x), BK.RBOW.00.HHN (2x), BK.RVIT.00.HHZ (2x), \n",
       "\t\t\tBK.RVIT.00.HHN (2x), BK.SCOT.01.HHZ, BK.SCOT.01.HHN, \n",
       "\t\t\tBK.WEAV.00.HHZ (2x), BK.WEAV.00.HHN (2x), CE.79036.10.HNZ, \n",
       "\t\t\tCE.79046..HNZ (2x), CE.79298.10.HNN (2x), CE.79666.10.HNZ, \n",
       "\t\t\tCE.79668..HNZ, CE.89255..HNZ, CE.89255..HNN, CE.89462..HNZ (2x), \n",
       "\t\t\tCE.89462..HNN (3x), CE.89464.10.HNN, CE.89688..HNZ, CE.89688..HNN, \n",
       "\t\t\tCE.89781.10.HNZ, CE.89781.10.HNN, CE.99700..HNZ (2x), \n",
       "\t\t\tCE.99700..HNN (2x), NC.GBL.01.HNZ, NC.GBL.01.HNN, NC.GCWB.01.HNZ, \n",
       "\t\t\tNC.GHGB.01.HHZ (3x), NC.GHO.01.HNZ, NC.GVA.01.HNZ, NC.GWR.01.HNZ, \n",
       "\t\t\tNC.KBN.01.HNZ, NC.KBN.01.HNN, NC.KBU.01.HNN, NC.KCO..HNZ, \n",
       "\t\t\tNC.KCO..HNN, NC.KCR.03.HNZ, NC.KCR.03.HNN, NC.KCSB.01.HNZ (2x), \n",
       "\t\t\tNC.KCSB.01.HNN (2x), NC.KCT..HHZ, NC.KCT..HHN, NC.KHBB..HHZ (2x), \n",
       "\t\t\tNC.KHBB..HHN (2x), NC.KHMB..HHZ, NC.KHMB..HHN, NC.KMPB..HHZ (2x), \n",
       "\t\t\tNC.KMPB..HHN (2x), NC.KMR..HHN, NC.KOM.02.HNZ, NC.KOM.02.HNN, \n",
       "\t\t\tNC.KPR.01.HNZ, NC.KPR.01.HNN, NC.KRP..HHZ, NC.KRP..HHN, \n",
       "\t\t\tNC.KTD.01.HNZ (2x), NC.KTD.01.HNN (2x), NC.LBK..EHZ, NC.LRB..EHZ, \n",
       "\t\t\tNC.LSF..EHZ, NP.1023.10.HNZ, NP.1023.10.HNN, NP.1580.10.HNZ (2x), \n",
       "\t\t\tNP.1580.10.HNN (2x), NP.1581.10.HNZ (2x), NP.1581.10.HNN (2x), \n",
       "\t\t\tNP.1582.10.HNZ (2x), NP.1582.10.HNN (2x), NP.1584B.10.HNZ, \n",
       "\t\t\tNP.1584B.10.HNN, NP.1586.10.HNZ (2x), NP.1586.10.HNN (2x), \n",
       "\t\t\tNP.1591.10.HNZ, NP.1591.10.HNN, PB.B045..EHZ, PB.B046..EHZ, \n",
       "\t\t\tPB.B047..EHZ, PB.B049..EHZ, PB.B932..EHZ, PB.B934..EHZ, \n",
       "\t\t\tPB.B935..EHZ"
      ]
     },
     "metadata": {},
     "output_type": "display_data"
    }
   ],
   "source": [
    "display(st)\n",
    "display(inv)"
   ]
  },
  {
   "cell_type": "code",
   "execution_count": null,
   "metadata": {},
   "outputs": [
    {
     "name": "stderr",
     "output_type": "stream",
     "text": [
      "Matplotlib Qt5Agg backend is not available. Snufflings drawing matplotlib figures may not work properly.\n"
     ]
    }
   ],
   "source": [
    "events, markers = to_pyrocko_events_and_picks(cat)\n",
    "obspy_compat.snuffle(st, ntracks=len(st), inventory=inv, markers=markers)"
   ]
  },
  {
   "cell_type": "code",
   "execution_count": null,
   "metadata": {},
   "outputs": [],
   "source": []
  }
 ],
 "metadata": {
  "kernelspec": {
   "display_name": "Python 3 (ipykernel)",
   "language": "python",
   "name": "python3"
  },
  "language_info": {
   "codemirror_mode": {
    "name": "ipython",
    "version": 3
   },
   "file_extension": ".py",
   "mimetype": "text/x-python",
   "name": "python",
   "nbconvert_exporter": "python",
   "pygments_lexer": "ipython3",
   "version": "3.11.12"
  }
 },
 "nbformat": 4,
 "nbformat_minor": 4
}
