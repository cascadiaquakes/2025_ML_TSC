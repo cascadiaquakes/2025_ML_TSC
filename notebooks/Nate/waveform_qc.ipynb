{
 "cells": [
  {
   "cell_type": "markdown",
   "metadata": {},
   "source": [
    "# IRIS Web Services Data Quality Metrics Exercise\n",
    "*:auth: Nate Stevens (Pacific Northwest Seismic Network)*\n",
    "\n",
    "In this notebook we'll query data quality metrics from the MUSTANG measurements webservice  \n",
    "and the FDSNWS availability webservice provided by EarthScope/SAGE to get a sense of data availability and usefullness BEFORE downloading a ton of data!  \n",
    "\n",
    "What is MUSTANG? - A continually growing data quality statistics dataset  \n",
    "for every seismic station stored on the Data Management Center!  \n",
    "\n",
    "What does MUSTANG stand for? - The **M**odular **U**tility for **STA**tistical k**N**owldege **G**athering system  \n",
    "\n",
    "Where can I go to learn more about MUSTANG? \n",
    "https://service.iris.edu/mustang/  \n",
    "\n",
    "Dependencies for this Notebook:   \n",
    " - `ObsPy`  \n",
    " - `Pyrocko` (and potentiall `PyQt5`)  \n",
    " - `ws_client` (`ws_client.py`)  \n"
   ]
  },
  {
   "cell_type": "code",
   "execution_count": null,
   "metadata": {},
   "outputs": [],
   "source": [
    "## IMPORT MODULES\n",
    "import pandas as pd\n",
    "from obspy import UTCDateTime\n",
    "from obspy.clients.fdsn import Client\n",
    "# Tools for data visualization\n",
    "import matplotlib.pyplot as plt\n",
    "from pyrocko import obspy_compat\n",
    "\n",
    "# Custom-Built Clients for fetching data quality measurements from IRIS web services\n",
    "from ws_client import MustangClient, AvailabilityClient\n",
    "\n"
   ]
  },
  {
   "cell_type": "markdown",
   "metadata": {},
   "source": [
    "## Composing a MUSTANG query  \n",
    "The `MustangClient` class' `get_metrics` follows the `key=value` syntax of the MUSTANG measurements service interface  \n",
    "(https://service.iris.edu/mustang/measurements/1/)  \n",
    "where multiple values can be provided as a comma-delimited string.\n",
    "\n",
    "This version of the `MustangClient` can also parse lists of metric names (see below).  \n",
    "\n",
    "The full list of MUSTANG metrics and detailed descriptions of their meaning can be found at the link above.  \n",
    "\n",
    "The metrics we'll use in this exercise are:  \n",
    "\n",
    " - *`sample_min`*: the minimum sample value observed in a 24 hour period  \n",
    "\n",
    " - *`max_range`*: the maximum range between any two samples in a 5 minute window within a 24 hour period  \n",
    "\n",
    " - *`percent_availability`*: the percent of a 24 hour period for which there are data  \n",
    "\n",
    " - *`sample_unique`*: number of unique sample values reported in a 24 hour window  \n",
    "\n",
    " - *`num_gaps`*: number of data gaps encountered within a 24 hour window\n",
    "\n",
    "\n",
    "The seismic station we're looking at is UW.MBW.01.EHZ, one of the longest running stations in the PNSN that  \n",
    "monitored Mount Baker volcano until late 2023 when it was replaced with UW.MBW2.  \n",
    "\n",
    "### UW.MBW was having some issues towards the end of its life, can you find spots where it looks like the data might not be as useful?"
   ]
  },
  {
   "cell_type": "code",
   "execution_count": null,
   "metadata": {},
   "outputs": [],
   "source": [
    "# Initialize the client\n",
    "mclient = MustangClient()\n",
    "# Compose a query for MUSTANG metrics for an analog seismometer near Mount Baker (Washington, USA)\n",
    "metric = ['sample_min','max_range','percent_availability','sample_unique','num_gaps']\n",
    "query = {'metric': metric,\n",
    "            'net':'UW',\n",
    "            'sta':'MBW',\n",
    "            'loc':'*',\n",
    "            'cha':'EHZ'}\n",
    "# Run query\n",
    "df_m = mclient.measurements_request(**query)"
   ]
  },
  {
   "cell_type": "code",
   "execution_count": null,
   "metadata": {},
   "outputs": [],
   "source": [
    "# What do we see?\n",
    "display(df_m)\n",
    "\n",
    "fig = plt.figure(figsize=(8,12))\n",
    "gs = fig.add_gridspec(nrows=len(query['metric']), hspace=0)\n",
    "\n",
    "for _e, _m in enumerate(query['metric']):\n",
    "    ax = fig.add_subplot(gs[_e])\n",
    "    ax.plot(df_m.index.get_level_values(0), df_m[_m].values, '.', label=_m)\n",
    "    ax.set_ylabel(_m)\n",
    "    ax.grid()\n"
   ]
  },
  {
   "cell_type": "markdown",
   "metadata": {},
   "source": [
    "### Lots of gaps\n",
    "Trying to bulk download gappy data from webservices can result in the entire request crashing.\n",
    "\n",
    "If we can request with information on data availability (and which data seem to have meaning) then this job becomes easier.\n",
    "\n",
    "Thankfully data availability is already documented by the NSF SAGE Facility FDSN Web Service!"
   ]
  },
  {
   "cell_type": "markdown",
   "metadata": {},
   "source": [
    "# Running a FDSN Web Service query  \n",
    "\n",
    "Use the custom-built `AvailabilityClient` class that follows the syntax of the  \n",
    "related webservice: https://service.iris.edu/fdsnws/availability/1/  \n",
    "\n",
    "For this example we'll keep looking at station UW.MBW."
   ]
  },
  {
   "cell_type": "code",
   "execution_count": null,
   "metadata": {},
   "outputs": [],
   "source": [
    "# Initialize the client\n",
    "aclient = AvailabilityClient()\n",
    "# Run a data availability request for everything UW.MBW.*.EHZ has to offer\n",
    "df_a = aclient.availability_request(sta='MBW',net='UW',cha='EHZ')"
   ]
  },
  {
   "cell_type": "code",
   "execution_count": null,
   "metadata": {},
   "outputs": [],
   "source": [
    "# Take a look at the \n",
    "display(df_a)"
   ]
  },
  {
   "cell_type": "markdown",
   "metadata": {},
   "source": [
    "### What is going on with the sampling rates?"
   ]
  },
  {
   "cell_type": "code",
   "execution_count": null,
   "metadata": {},
   "outputs": [],
   "source": [
    "_series = pd.Series(df_a.SampleRate.values, index=df_a.Earliest.values)\n",
    "ax = _series.plot()\n",
    "ax.set_ylabel('Sampling Rate [sps]')"
   ]
  },
  {
   "cell_type": "markdown",
   "metadata": {},
   "source": [
    "# Now lets' finally look at some data!"
   ]
  },
  {
   "cell_type": "code",
   "execution_count": null,
   "metadata": {},
   "outputs": [],
   "source": [
    "# IYKYK, or you're about to find out!\n",
    "obspy_compat.plant()"
   ]
  },
  {
   "cell_type": "code",
   "execution_count": null,
   "metadata": {},
   "outputs": [],
   "source": [
    "# Get an obspy client for fetching waveforms\n",
    "wclient = Client('IRIS')"
   ]
  },
  {
   "cell_type": "code",
   "execution_count": null,
   "metadata": {},
   "outputs": [],
   "source": [
    "# Subset available segments to a time window (currently uses pandas Timestamp objects)\n",
    "_df_a = df_a[(df_a.Earliest >= pd.Timestamp('2023-02-19',tz='UTC')) & (df_a.Latest <= pd.Timestamp('2023-02-21',tz='UTC'))]\n",
    "display(_df_a)"
   ]
  },
  {
   "cell_type": "code",
   "execution_count": null,
   "metadata": {},
   "outputs": [],
   "source": [
    "# Compose a bulk request\n",
    "bulk = []\n",
    "for _, row in _df_a.iterrows():\n",
    "    # Switch pandas Timestamp objects back to UTCDateTime objects for requests\n",
    "    req = (row.Network, row.Station, row.Location, row.Channel, UTCDateTime(row.Earliest.timestamp()), UTCDateTime(row.Latest.timestamp()))\n",
    "    bulk.append(req)"
   ]
  },
  {
   "cell_type": "code",
   "execution_count": null,
   "metadata": {},
   "outputs": [],
   "source": [
    "# Run bulk request\n",
    "st = wclient.get_waveforms_bulk(bulk)\n",
    "st.plot()"
   ]
  },
  {
   "cell_type": "markdown",
   "metadata": {},
   "source": [
    "## It looks like we have continuous data...\n",
    "### Are they continuous?\n",
    "### Where do they stop being useful?\n",
    "### What does this mean for your workflow?\n",
    "\n",
    "## Let's take an interactive look at our waveform data"
   ]
  },
  {
   "cell_type": "code",
   "execution_count": null,
   "metadata": {},
   "outputs": [],
   "source": [
    "# Let's take an interactive look at our waveforms\n",
    "(exit_code, snuffler_pile) = st.snuffle()"
   ]
  }
 ],
 "metadata": {
  "kernelspec": {
   "display_name": "baker",
   "language": "python",
   "name": "python3"
  },
  "language_info": {
   "codemirror_mode": {
    "name": "ipython",
    "version": 3
   },
   "file_extension": ".py",
   "mimetype": "text/x-python",
   "name": "python",
   "nbconvert_exporter": "python",
   "pygments_lexer": "ipython3",
   "version": "3.10.0"
  }
 },
 "nbformat": 4,
 "nbformat_minor": 2
}
