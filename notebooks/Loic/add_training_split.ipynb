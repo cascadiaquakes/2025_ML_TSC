{
 "cells": [
  {
   "cell_type": "code",
   "execution_count": 1,
   "id": "c84788e8-c23d-4de9-bd32-92c02c2cdc85",
   "metadata": {},
   "outputs": [],
   "source": [
    "import pandas as pd\n",
    "import numpy as np"
   ]
  },
  {
   "cell_type": "code",
   "execution_count": 2,
   "id": "cfb48d00-0641-4643-b37b-e6194b2e5085",
   "metadata": {},
   "outputs": [],
   "source": [
    "# Load your metadata.csv\n",
    "metadata_path = \"./metadata.csv\"\n",
    "df = pd.read_csv(metadata_path)\n",
    "\n",
    "# Shuffle and split\n",
    "np.random.seed(42)\n",
    "indices = np.random.permutation(len(df))\n",
    "\n",
    "n_total = len(df)\n",
    "n_train = int(0.8 * n_total)\n",
    "n_val = int(0.1 * n_total)\n",
    "\n",
    "# Assign splits\n",
    "df.loc[indices[:n_train], \"split\"] = \"train\"\n",
    "df.loc[indices[n_train:n_train + n_val], \"split\"] = \"dev\"\n",
    "df.loc[indices[n_train + n_val:], \"split\"] = \"test\"\n",
    "\n",
    "# Save back\n",
    "df.to_csv(metadata_path, index=False)"
   ]
  },
  {
   "cell_type": "code",
   "execution_count": null,
   "id": "cceeb9c2-5eba-42fe-8ef8-7b1b9d1a3817",
   "metadata": {},
   "outputs": [],
   "source": []
  }
 ],
 "metadata": {
  "kernelspec": {
   "display_name": "Python [conda env:pangeo_torch]",
   "language": "python",
   "name": "conda-env-pangeo_torch-py"
  },
  "language_info": {
   "codemirror_mode": {
    "name": "ipython",
    "version": 3
   },
   "file_extension": ".py",
   "mimetype": "text/x-python",
   "name": "python",
   "nbconvert_exporter": "python",
   "pygments_lexer": "ipython3",
   "version": "3.12.9"
  }
 },
 "nbformat": 4,
 "nbformat_minor": 5
}
