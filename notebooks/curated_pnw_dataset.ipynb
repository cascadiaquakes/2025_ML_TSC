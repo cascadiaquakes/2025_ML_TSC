{
 "cells": [
  {
   "cell_type": "markdown",
   "id": "862ccdab-25c8-4c94-8e59-34eb73a04847",
   "metadata": {},
   "source": [
    "# Curated waveform dataset for the Pacific Northwest"
   ]
  }
 ],
 "metadata": {
  "kernelspec": {
   "display_name": "Python [conda env:GNN_torch]",
   "language": "python",
   "name": "conda-env-GNN_torch-py"
  },
  "language_info": {
   "codemirror_mode": {
    "name": "ipython",
    "version": 3
   },
   "file_extension": ".py",
   "mimetype": "text/x-python",
   "name": "python",
   "nbconvert_exporter": "python",
   "pygments_lexer": "ipython3",
   "version": "3.10.8"
  }
 },
 "nbformat": 4,
 "nbformat_minor": 5
}
